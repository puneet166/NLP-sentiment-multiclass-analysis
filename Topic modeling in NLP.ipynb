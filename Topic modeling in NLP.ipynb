{
 "cells": [
  {
   "cell_type": "markdown",
   "metadata": {},
   "source": [
    "Let’s first load all the necessary libraries:"
   ]
  },
  {
   "cell_type": "code",
   "execution_count": 3,
   "metadata": {},
   "outputs": [
    {
     "name": "stderr",
     "output_type": "stream",
     "text": [
      "[nltk_data] Downloading package stopwords to\n",
      "[nltk_data]     C:\\Users\\admin\\AppData\\Roaming\\nltk_data...\n",
      "[nltk_data]   Package stopwords is already up-to-date!\n"
     ]
    },
    {
     "data": {
      "text/plain": [
       "True"
      ]
     },
     "execution_count": 3,
     "metadata": {},
     "output_type": "execute_result"
    }
   ],
   "source": [
    "import nltk\n",
    "from nltk import FreqDist\n",
    "nltk.download('stopwords') # run this one time"
   ]
  },
  {
   "cell_type": "code",
   "execution_count": 2,
   "metadata": {},
   "outputs": [
    {
     "name": "stdout",
     "output_type": "stream",
     "text": [
      "Requirement already satisfied: PyDrive in c:\\users\\admin\\anaconda3\\lib\\site-packages (1.3.1)\n",
      "Requirement already satisfied: google-api-python-client>=1.2 in c:\\users\\admin\\anaconda3\\lib\\site-packages (from PyDrive) (2.2.0)\n",
      "Requirement already satisfied: PyYAML>=3.0 in c:\\users\\admin\\anaconda3\\lib\\site-packages (from PyDrive) (5.3)\n",
      "Requirement already satisfied: oauth2client>=4.0.0 in c:\\users\\admin\\anaconda3\\lib\\site-packages (from PyDrive) (4.1.3)\n",
      "Requirement already satisfied: six<2dev,>=1.13.0 in c:\\users\\admin\\anaconda3\\lib\\site-packages (from google-api-python-client>=1.2->PyDrive) (1.14.0)\n",
      "Requirement already satisfied: google-auth<2dev,>=1.16.0 in c:\\users\\admin\\anaconda3\\lib\\site-packages (from google-api-python-client>=1.2->PyDrive) (1.25.0)\n",
      "Requirement already satisfied: uritemplate<4dev,>=3.0.0 in c:\\users\\admin\\anaconda3\\lib\\site-packages (from google-api-python-client>=1.2->PyDrive) (3.0.1)\n",
      "Requirement already satisfied: httplib2<1dev,>=0.15.0 in c:\\users\\admin\\anaconda3\\lib\\site-packages (from google-api-python-client>=1.2->PyDrive) (0.19.1)\n",
      "Requirement already satisfied: google-auth-httplib2>=0.1.0 in c:\\users\\admin\\anaconda3\\lib\\site-packages (from google-api-python-client>=1.2->PyDrive) (0.1.0)\n",
      "Requirement already satisfied: google-api-core<2dev,>=1.21.0 in c:\\users\\admin\\anaconda3\\lib\\site-packages (from google-api-python-client>=1.2->PyDrive) (1.26.2)\n",
      "Requirement already satisfied: pyasn1-modules>=0.0.5 in c:\\users\\admin\\anaconda3\\lib\\site-packages (from oauth2client>=4.0.0->PyDrive) (0.2.7)\n",
      "Requirement already satisfied: rsa>=3.1.4 in c:\\users\\admin\\anaconda3\\lib\\site-packages (from oauth2client>=4.0.0->PyDrive) (4.7.2)\n",
      "Requirement already satisfied: pyasn1>=0.1.7 in c:\\users\\admin\\anaconda3\\lib\\site-packages (from oauth2client>=4.0.0->PyDrive) (0.4.8)\n",
      "Requirement already satisfied: cachetools<5.0,>=2.0.0 in c:\\users\\admin\\anaconda3\\lib\\site-packages (from google-auth<2dev,>=1.16.0->google-api-python-client>=1.2->PyDrive) (4.2.1)\n",
      "Requirement already satisfied: setuptools>=40.3.0 in c:\\users\\admin\\anaconda3\\lib\\site-packages (from google-auth<2dev,>=1.16.0->google-api-python-client>=1.2->PyDrive) (45.2.0.post20200210)\n",
      "Requirement already satisfied: pyparsing<3,>=2.4.2 in c:\\users\\admin\\anaconda3\\lib\\site-packages (from httplib2<1dev,>=0.15.0->google-api-python-client>=1.2->PyDrive) (2.4.6)\n",
      "Requirement already satisfied: googleapis-common-protos<2.0dev,>=1.6.0 in c:\\users\\admin\\anaconda3\\lib\\site-packages (from google-api-core<2dev,>=1.21.0->google-api-python-client>=1.2->PyDrive) (1.53.0)\n",
      "Requirement already satisfied: packaging>=14.3 in c:\\users\\admin\\anaconda3\\lib\\site-packages (from google-api-core<2dev,>=1.21.0->google-api-python-client>=1.2->PyDrive) (20.1)\n",
      "Requirement already satisfied: pytz in c:\\users\\admin\\anaconda3\\lib\\site-packages (from google-api-core<2dev,>=1.21.0->google-api-python-client>=1.2->PyDrive) (2019.3)\n",
      "Requirement already satisfied: requests<3.0.0dev,>=2.18.0 in c:\\users\\admin\\anaconda3\\lib\\site-packages (from google-api-core<2dev,>=1.21.0->google-api-python-client>=1.2->PyDrive) (2.22.0)\n",
      "Requirement already satisfied: protobuf>=3.12.0 in c:\\users\\admin\\anaconda3\\lib\\site-packages (from google-api-core<2dev,>=1.21.0->google-api-python-client>=1.2->PyDrive) (3.15.8)\n",
      "Requirement already satisfied: certifi>=2017.4.17 in c:\\users\\admin\\anaconda3\\lib\\site-packages (from requests<3.0.0dev,>=2.18.0->google-api-core<2dev,>=1.21.0->google-api-python-client>=1.2->PyDrive) (2019.11.28)\n",
      "Requirement already satisfied: idna<2.9,>=2.5 in c:\\users\\admin\\anaconda3\\lib\\site-packages (from requests<3.0.0dev,>=2.18.0->google-api-core<2dev,>=1.21.0->google-api-python-client>=1.2->PyDrive) (2.8)\n",
      "Requirement already satisfied: urllib3!=1.25.0,!=1.25.1,<1.26,>=1.21.1 in c:\\users\\admin\\anaconda3\\lib\\site-packages (from requests<3.0.0dev,>=2.18.0->google-api-core<2dev,>=1.21.0->google-api-python-client>=1.2->PyDrive) (1.25.8)\n",
      "Requirement already satisfied: chardet<3.1.0,>=3.0.2 in c:\\users\\admin\\anaconda3\\lib\\site-packages (from requests<3.0.0dev,>=2.18.0->google-api-core<2dev,>=1.21.0->google-api-python-client>=1.2->PyDrive) (3.0.4)\n",
      "Requirement already satisfied: gensim in c:\\users\\admin\\anaconda3\\lib\\site-packages (4.0.1)\n",
      "Requirement already satisfied: smart-open>=1.8.1 in c:\\users\\admin\\anaconda3\\lib\\site-packages (from gensim) (3.0.0)\n",
      "Requirement already satisfied: scipy>=0.18.1 in c:\\users\\admin\\anaconda3\\lib\\site-packages (from gensim) (1.4.1)\n",
      "Requirement already satisfied: numpy>=1.11.3 in c:\\users\\admin\\anaconda3\\lib\\site-packages (from gensim) (1.20.2)\n",
      "Requirement already satisfied: Cython==0.29.21 in c:\\users\\admin\\anaconda3\\lib\\site-packages (from gensim) (0.29.21)\n",
      "Requirement already satisfied: requests in c:\\users\\admin\\anaconda3\\lib\\site-packages (from smart-open>=1.8.1->gensim) (2.22.0)\n",
      "Requirement already satisfied: idna<2.9,>=2.5 in c:\\users\\admin\\anaconda3\\lib\\site-packages (from requests->smart-open>=1.8.1->gensim) (2.8)\n",
      "Requirement already satisfied: chardet<3.1.0,>=3.0.2 in c:\\users\\admin\\anaconda3\\lib\\site-packages (from requests->smart-open>=1.8.1->gensim) (3.0.4)\n",
      "Requirement already satisfied: certifi>=2017.4.17 in c:\\users\\admin\\anaconda3\\lib\\site-packages (from requests->smart-open>=1.8.1->gensim) (2019.11.28)\n",
      "Requirement already satisfied: urllib3!=1.25.0,!=1.25.1,<1.26,>=1.21.1 in c:\\users\\admin\\anaconda3\\lib\\site-packages (from requests->smart-open>=1.8.1->gensim) (1.25.8)\n",
      "Requirement already satisfied: pyldavis in c:\\users\\admin\\anaconda3\\lib\\site-packages (3.3.1)\n",
      "Requirement already satisfied: numpy>=1.20.0 in c:\\users\\admin\\anaconda3\\lib\\site-packages (from pyldavis) (1.20.2)\n",
      "Requirement already satisfied: sklearn in c:\\users\\admin\\anaconda3\\lib\\site-packages (from pyldavis) (0.0)\n",
      "Requirement already satisfied: pandas>=1.2.0 in c:\\users\\admin\\anaconda3\\lib\\site-packages (from pyldavis) (1.2.4)\n",
      "Requirement already satisfied: scikit-learn in c:\\users\\admin\\anaconda3\\lib\\site-packages (from pyldavis) (0.22.1)\n",
      "Requirement already satisfied: setuptools in c:\\users\\admin\\anaconda3\\lib\\site-packages (from pyldavis) (45.2.0.post20200210)\n",
      "Requirement already satisfied: gensim in c:\\users\\admin\\anaconda3\\lib\\site-packages (from pyldavis) (4.0.1)\n",
      "Requirement already satisfied: funcy in c:\\users\\admin\\anaconda3\\lib\\site-packages (from pyldavis) (1.15)\n",
      "Requirement already satisfied: jinja2 in c:\\users\\admin\\anaconda3\\lib\\site-packages (from pyldavis) (2.11.1)\n",
      "Requirement already satisfied: scipy in c:\\users\\admin\\anaconda3\\lib\\site-packages (from pyldavis) (1.4.1)\n",
      "Requirement already satisfied: future in c:\\users\\admin\\anaconda3\\lib\\site-packages (from pyldavis) (0.18.2)\n",
      "Requirement already satisfied: numexpr in c:\\users\\admin\\anaconda3\\lib\\site-packages (from pyldavis) (2.7.1)\n",
      "Requirement already satisfied: joblib in c:\\users\\admin\\anaconda3\\lib\\site-packages (from pyldavis) (0.14.1)\n",
      "Requirement already satisfied: python-dateutil>=2.7.3 in c:\\users\\admin\\anaconda3\\lib\\site-packages (from pandas>=1.2.0->pyldavis) (2.8.1)\n",
      "Requirement already satisfied: pytz>=2017.3 in c:\\users\\admin\\anaconda3\\lib\\site-packages (from pandas>=1.2.0->pyldavis) (2019.3)\n",
      "Requirement already satisfied: smart-open>=1.8.1 in c:\\users\\admin\\anaconda3\\lib\\site-packages (from gensim->pyldavis) (3.0.0)\n",
      "Requirement already satisfied: Cython==0.29.21 in c:\\users\\admin\\anaconda3\\lib\\site-packages (from gensim->pyldavis) (0.29.21)\n",
      "Requirement already satisfied: MarkupSafe>=0.23 in c:\\users\\admin\\anaconda3\\lib\\site-packages (from jinja2->pyldavis) (1.1.1)\n",
      "Requirement already satisfied: six>=1.5 in c:\\users\\admin\\anaconda3\\lib\\site-packages (from python-dateutil>=2.7.3->pandas>=1.2.0->pyldavis) (1.14.0)\n",
      "Requirement already satisfied: requests in c:\\users\\admin\\anaconda3\\lib\\site-packages (from smart-open>=1.8.1->gensim->pyldavis) (2.22.0)\n",
      "Requirement already satisfied: idna<2.9,>=2.5 in c:\\users\\admin\\anaconda3\\lib\\site-packages (from requests->smart-open>=1.8.1->gensim->pyldavis) (2.8)\n",
      "Requirement already satisfied: urllib3!=1.25.0,!=1.25.1,<1.26,>=1.21.1 in c:\\users\\admin\\anaconda3\\lib\\site-packages (from requests->smart-open>=1.8.1->gensim->pyldavis) (1.25.8)\n",
      "Requirement already satisfied: chardet<3.1.0,>=3.0.2 in c:\\users\\admin\\anaconda3\\lib\\site-packages (from requests->smart-open>=1.8.1->gensim->pyldavis) (3.0.4)\n",
      "Requirement already satisfied: certifi>=2017.4.17 in c:\\users\\admin\\anaconda3\\lib\\site-packages (from requests->smart-open>=1.8.1->gensim->pyldavis) (2019.11.28)\n"
     ]
    },
    {
     "name": "stdout",
     "output_type": "stream",
     "text": [
      "Requirement already satisfied: en-core-web-sm==3.0.0 from https://github.com/explosion/spacy-models/releases/download/en_core_web_sm-3.0.0/en_core_web_sm-3.0.0-py3-none-any.whl#egg=en_core_web_sm==3.0.0 in c:\\users\\admin\\anaconda3\\lib\\site-packages (3.0.0)\n",
      "Requirement already satisfied: spacy<3.1.0,>=3.0.0 in c:\\users\\admin\\anaconda3\\lib\\site-packages (from en-core-web-sm==3.0.0) (3.0.5)\n",
      "Requirement already satisfied: pydantic<1.8.0,>=1.7.1 in c:\\users\\admin\\anaconda3\\lib\\site-packages (from spacy<3.1.0,>=3.0.0->en-core-web-sm==3.0.0) (1.7.3)\n",
      "Requirement already satisfied: blis<0.8.0,>=0.4.0 in c:\\users\\admin\\anaconda3\\lib\\site-packages (from spacy<3.1.0,>=3.0.0->en-core-web-sm==3.0.0) (0.7.4)\n",
      "Requirement already satisfied: tqdm<5.0.0,>=4.38.0 in c:\\users\\admin\\anaconda3\\lib\\site-packages (from spacy<3.1.0,>=3.0.0->en-core-web-sm==3.0.0) (4.42.1)\n",
      "Requirement already satisfied: numpy>=1.15.0 in c:\\users\\admin\\anaconda3\\lib\\site-packages (from spacy<3.1.0,>=3.0.0->en-core-web-sm==3.0.0) (1.20.2)\n",
      "Requirement already satisfied: srsly<3.0.0,>=2.4.0 in c:\\users\\admin\\anaconda3\\lib\\site-packages (from spacy<3.1.0,>=3.0.0->en-core-web-sm==3.0.0) (2.4.1)\n",
      "Requirement already satisfied: wasabi<1.1.0,>=0.8.1 in c:\\users\\admin\\anaconda3\\lib\\site-packages (from spacy<3.1.0,>=3.0.0->en-core-web-sm==3.0.0) (0.8.2)\n",
      "Requirement already satisfied: jinja2 in c:\\users\\admin\\anaconda3\\lib\\site-packages (from spacy<3.1.0,>=3.0.0->en-core-web-sm==3.0.0) (2.11.1)\n",
      "Requirement already satisfied: cymem<2.1.0,>=2.0.2 in c:\\users\\admin\\anaconda3\\lib\\site-packages (from spacy<3.1.0,>=3.0.0->en-core-web-sm==3.0.0) (2.0.5)\n",
      "Requirement already satisfied: spacy-legacy<3.1.0,>=3.0.0 in c:\\users\\admin\\anaconda3\\lib\\site-packages (from spacy<3.1.0,>=3.0.0->en-core-web-sm==3.0.0) (3.0.2)\n",
      "Requirement already satisfied: packaging>=20.0 in c:\\users\\admin\\anaconda3\\lib\\site-packages (from spacy<3.1.0,>=3.0.0->en-core-web-sm==3.0.0) (20.1)\n",
      "Requirement already satisfied: typer<0.4.0,>=0.3.0 in c:\\users\\admin\\anaconda3\\lib\\site-packages (from spacy<3.1.0,>=3.0.0->en-core-web-sm==3.0.0) (0.3.2)\n",
      "Requirement already satisfied: typing-extensions<4.0.0.0,>=3.7.4; python_version < \"3.8\" in c:\\users\\admin\\anaconda3\\lib\\site-packages (from spacy<3.1.0,>=3.0.0->en-core-web-sm==3.0.0) (3.7.4.3)\n",
      "Requirement already satisfied: requests<3.0.0,>=2.13.0 in c:\\users\\admin\\anaconda3\\lib\\site-packages (from spacy<3.1.0,>=3.0.0->en-core-web-sm==3.0.0) (2.22.0)\n",
      "Requirement already satisfied: catalogue<2.1.0,>=2.0.1 in c:\\users\\admin\\anaconda3\\lib\\site-packages (from spacy<3.1.0,>=3.0.0->en-core-web-sm==3.0.0) (2.0.3)\n",
      "Requirement already satisfied: preshed<3.1.0,>=3.0.2 in c:\\users\\admin\\anaconda3\\lib\\site-packages (from spacy<3.1.0,>=3.0.0->en-core-web-sm==3.0.0) (3.0.5)\n",
      "Requirement already satisfied: pathy>=0.3.5 in c:\\users\\admin\\anaconda3\\lib\\site-packages (from spacy<3.1.0,>=3.0.0->en-core-web-sm==3.0.0) (0.4.0)\n",
      "Requirement already satisfied: thinc<8.1.0,>=8.0.2 in c:\\users\\admin\\anaconda3\\lib\\site-packages (from spacy<3.1.0,>=3.0.0->en-core-web-sm==3.0.0) (8.0.2)\n",
      "Requirement already satisfied: importlib-metadata>=0.20; python_version < \"3.8\" in c:\\users\\admin\\anaconda3\\lib\\site-packages (from spacy<3.1.0,>=3.0.0->en-core-web-sm==3.0.0) (1.5.0)\n",
      "Requirement already satisfied: murmurhash<1.1.0,>=0.28.0 in c:\\users\\admin\\anaconda3\\lib\\site-packages (from spacy<3.1.0,>=3.0.0->en-core-web-sm==3.0.0) (1.0.5)\n",
      "Requirement already satisfied: setuptools in c:\\users\\admin\\anaconda3\\lib\\site-packages (from spacy<3.1.0,>=3.0.0->en-core-web-sm==3.0.0) (45.2.0.post20200210)\n",
      "Requirement already satisfied: MarkupSafe>=0.23 in c:\\users\\admin\\anaconda3\\lib\\site-packages (from jinja2->spacy<3.1.0,>=3.0.0->en-core-web-sm==3.0.0) (1.1.1)\n",
      "Requirement already satisfied: six in c:\\users\\admin\\anaconda3\\lib\\site-packages (from packaging>=20.0->spacy<3.1.0,>=3.0.0->en-core-web-sm==3.0.0) (1.14.0)\n",
      "Requirement already satisfied: pyparsing>=2.0.2 in c:\\users\\admin\\anaconda3\\lib\\site-packages (from packaging>=20.0->spacy<3.1.0,>=3.0.0->en-core-web-sm==3.0.0) (2.4.6)\n",
      "Requirement already satisfied: click<7.2.0,>=7.1.1 in c:\\users\\admin\\anaconda3\\lib\\site-packages (from typer<0.4.0,>=0.3.0->spacy<3.1.0,>=3.0.0->en-core-web-sm==3.0.0) (7.1.2)\n",
      "Requirement already satisfied: idna<2.9,>=2.5 in c:\\users\\admin\\anaconda3\\lib\\site-packages (from requests<3.0.0,>=2.13.0->spacy<3.1.0,>=3.0.0->en-core-web-sm==3.0.0) (2.8)\n",
      "Requirement already satisfied: urllib3!=1.25.0,!=1.25.1,<1.26,>=1.21.1 in c:\\users\\admin\\anaconda3\\lib\\site-packages (from requests<3.0.0,>=2.13.0->spacy<3.1.0,>=3.0.0->en-core-web-sm==3.0.0) (1.25.8)\n",
      "Requirement already satisfied: chardet<3.1.0,>=3.0.2 in c:\\users\\admin\\anaconda3\\lib\\site-packages (from requests<3.0.0,>=2.13.0->spacy<3.1.0,>=3.0.0->en-core-web-sm==3.0.0) (3.0.4)\n",
      "Requirement already satisfied: certifi>=2017.4.17 in c:\\users\\admin\\anaconda3\\lib\\site-packages (from requests<3.0.0,>=2.13.0->spacy<3.1.0,>=3.0.0->en-core-web-sm==3.0.0) (2019.11.28)\n",
      "Requirement already satisfied: zipp>=0.5; python_version < \"3.8\" in c:\\users\\admin\\anaconda3\\lib\\site-packages (from catalogue<2.1.0,>=2.0.1->spacy<3.1.0,>=3.0.0->en-core-web-sm==3.0.0) (2.2.0)\n",
      "Requirement already satisfied: smart-open<4.0.0,>=2.2.0 in c:\\users\\admin\\anaconda3\\lib\\site-packages (from pathy>=0.3.5->spacy<3.1.0,>=3.0.0->en-core-web-sm==3.0.0) (3.0.0)\n",
      "[!] As of spaCy v3.0, shortcuts like 'en' are deprecated. Please use the full\n",
      "pipeline package name 'en_core_web_sm' instead.\n",
      "[+] Download and installation successful\n",
      "You can now load the package via spacy.load('en_core_web_sm')\n"
     ]
    }
   ],
   "source": [
    "!pip install PyDrive\n",
    "!pip install gensim\n",
    "!pip install pyldavis\n",
    "!python -m spacy download en"
   ]
  },
  {
   "cell_type": "code",
   "execution_count": 4,
   "metadata": {},
   "outputs": [
    {
     "name": "stdout",
     "output_type": "stream",
     "text": [
      "Requirement already up-to-date: gensim in c:\\users\\admin\\anaconda3\\lib\\site-packages (4.0.1)\n",
      "Requirement already satisfied, skipping upgrade: numpy>=1.11.3 in c:\\users\\admin\\anaconda3\\lib\\site-packages (from gensim) (1.20.2)\n",
      "Requirement already satisfied, skipping upgrade: scipy>=0.18.1 in c:\\users\\admin\\anaconda3\\lib\\site-packages (from gensim) (1.4.1)\n",
      "Requirement already satisfied, skipping upgrade: smart-open>=1.8.1 in c:\\users\\admin\\anaconda3\\lib\\site-packages (from gensim) (3.0.0)\n",
      "Requirement already satisfied, skipping upgrade: Cython==0.29.21 in c:\\users\\admin\\anaconda3\\lib\\site-packages (from gensim) (0.29.21)\n",
      "Requirement already satisfied, skipping upgrade: requests in c:\\users\\admin\\anaconda3\\lib\\site-packages (from smart-open>=1.8.1->gensim) (2.22.0)\n",
      "Requirement already satisfied, skipping upgrade: idna<2.9,>=2.5 in c:\\users\\admin\\anaconda3\\lib\\site-packages (from requests->smart-open>=1.8.1->gensim) (2.8)\n",
      "Requirement already satisfied, skipping upgrade: chardet<3.1.0,>=3.0.2 in c:\\users\\admin\\anaconda3\\lib\\site-packages (from requests->smart-open>=1.8.1->gensim) (3.0.4)\n",
      "Requirement already satisfied, skipping upgrade: urllib3!=1.25.0,!=1.25.1,<1.26,>=1.21.1 in c:\\users\\admin\\anaconda3\\lib\\site-packages (from requests->smart-open>=1.8.1->gensim) (1.25.8)\n",
      "Requirement already satisfied, skipping upgrade: certifi>=2017.4.17 in c:\\users\\admin\\anaconda3\\lib\\site-packages (from requests->smart-open>=1.8.1->gensim) (2019.11.28)\n"
     ]
    }
   ],
   "source": [
    "!python -m pip install -U gensim\n"
   ]
  },
  {
   "cell_type": "code",
   "execution_count": 5,
   "metadata": {},
   "outputs": [
    {
     "name": "stderr",
     "output_type": "stream",
     "text": [
      "C:\\Users\\admin\\anaconda3\\lib\\site-packages\\sklearn\\decomposition\\_lda.py:29: DeprecationWarning: `np.float` is a deprecated alias for the builtin `float`. To silence this warning, use `float` by itself. Doing this will not modify any behavior and is safe. If you specifically wanted the numpy scalar type, use `np.float64` here.\n",
      "Deprecated in NumPy 1.20; for more details and guidance: https://numpy.org/devdocs/release/1.20.0-notes.html#deprecations\n",
      "  EPS = np.finfo(np.float).eps\n"
     ]
    }
   ],
   "source": [
    "import pandas as pd\n",
    "pd.set_option(\"display.max_colwidth\", 200)\n",
    "import numpy as np\n",
    "import re\n",
    "import spacy\n",
    "\n",
    "import gensim\n",
    "from gensim import corpora\n",
    "\n",
    "# libraries for visualization\n",
    "import pyLDAvis\n",
    "#import pyLDAvis.gensim\n",
    "#from pyLDAvis import gensim\n",
    "import pyLDAvis.gensim_models\n",
    "import matplotlib.pyplot as plt\n",
    "import seaborn as sns\n",
    "%matplotlib inline"
   ]
  },
  {
   "cell_type": "code",
   "execution_count": 32,
   "metadata": {},
   "outputs": [
    {
     "data": {
      "text/html": [
       "<div>\n",
       "<style scoped>\n",
       "    .dataframe tbody tr th:only-of-type {\n",
       "        vertical-align: middle;\n",
       "    }\n",
       "\n",
       "    .dataframe tbody tr th {\n",
       "        vertical-align: top;\n",
       "    }\n",
       "\n",
       "    .dataframe thead th {\n",
       "        text-align: right;\n",
       "    }\n",
       "</style>\n",
       "<table border=\"1\" class=\"dataframe\">\n",
       "  <thead>\n",
       "    <tr style=\"text-align: right;\">\n",
       "      <th></th>\n",
       "      <th>Unnamed: 0</th>\n",
       "      <th>text</th>\n",
       "      <th>sentiment</th>\n",
       "    </tr>\n",
       "  </thead>\n",
       "  <tbody>\n",
       "    <tr>\n",
       "      <th>0</th>\n",
       "      <td>0</td>\n",
       "      <td>Two places I'd invest all my money if I could: 3D printing and Self-driving cars!!!</td>\n",
       "      <td>5</td>\n",
       "    </tr>\n",
       "    <tr>\n",
       "      <th>1</th>\n",
       "      <td>1</td>\n",
       "      <td>Awesome! Google driverless cars will help the blind travel more often; https://t.co/QWuXR0FrBpv</td>\n",
       "      <td>5</td>\n",
       "    </tr>\n",
       "    <tr>\n",
       "      <th>2</th>\n",
       "      <td>2</td>\n",
       "      <td>If Google maps can't keep up with road construction, how am I supposed to trust a driverless car to get around here?</td>\n",
       "      <td>2</td>\n",
       "    </tr>\n",
       "    <tr>\n",
       "      <th>3</th>\n",
       "      <td>3</td>\n",
       "      <td>Autonomous cars seem way overhyped given the technology challenges; pilotless planes seem much more doable and needed.</td>\n",
       "      <td>2</td>\n",
       "    </tr>\n",
       "    <tr>\n",
       "      <th>4</th>\n",
       "      <td>4</td>\n",
       "      <td>Just saw Google self-driving car on I-34. It was painted green and blue.</td>\n",
       "      <td>3</td>\n",
       "    </tr>\n",
       "    <tr>\n",
       "      <th>...</th>\n",
       "      <td>...</td>\n",
       "      <td>...</td>\n",
       "      <td>...</td>\n",
       "    </tr>\n",
       "    <tr>\n",
       "      <th>6938</th>\n",
       "      <td>7141</td>\n",
       "      <td>Florida is one of a few states that allows testing of autonomous vehicles #sayfie</td>\n",
       "      <td>3</td>\n",
       "    </tr>\n",
       "    <tr>\n",
       "      <th>6939</th>\n",
       "      <td>7142</td>\n",
       "      <td>Many states still considering allowing self-driving car testing</td>\n",
       "      <td>3</td>\n",
       "    </tr>\n",
       "    <tr>\n",
       "      <th>6940</th>\n",
       "      <td>7143</td>\n",
       "      <td>Heading to a tech conference which will focus on transportation and driverless cars #AV #Innovation</td>\n",
       "      <td>3</td>\n",
       "    </tr>\n",
       "    <tr>\n",
       "      <th>6941</th>\n",
       "      <td>7144</td>\n",
       "      <td>Fully autonomous vehicles are one of many automation technologies</td>\n",
       "      <td>3</td>\n",
       "    </tr>\n",
       "    <tr>\n",
       "      <th>6942</th>\n",
       "      <td>7145</td>\n",
       "      <td>A new study just commissioned to study the costs of self-driving cars</td>\n",
       "      <td>3</td>\n",
       "    </tr>\n",
       "  </tbody>\n",
       "</table>\n",
       "<p>6943 rows × 3 columns</p>\n",
       "</div>"
      ],
      "text/plain": [
       "      Unnamed: 0  \\\n",
       "0              0   \n",
       "1              1   \n",
       "2              2   \n",
       "3              3   \n",
       "4              4   \n",
       "...          ...   \n",
       "6938        7141   \n",
       "6939        7142   \n",
       "6940        7143   \n",
       "6941        7144   \n",
       "6942        7145   \n",
       "\n",
       "                                                                                                                        text  \\\n",
       "0                                        Two places I'd invest all my money if I could: 3D printing and Self-driving cars!!!   \n",
       "1                            Awesome! Google driverless cars will help the blind travel more often; https://t.co/QWuXR0FrBpv   \n",
       "2       If Google maps can't keep up with road construction, how am I supposed to trust a driverless car to get around here?   \n",
       "3     Autonomous cars seem way overhyped given the technology challenges; pilotless planes seem much more doable and needed.   \n",
       "4                                                   Just saw Google self-driving car on I-34. It was painted green and blue.   \n",
       "...                                                                                                                      ...   \n",
       "6938                                       Florida is one of a few states that allows testing of autonomous vehicles #sayfie   \n",
       "6939                                                         Many states still considering allowing self-driving car testing   \n",
       "6940                     Heading to a tech conference which will focus on transportation and driverless cars #AV #Innovation   \n",
       "6941                                                       Fully autonomous vehicles are one of many automation technologies   \n",
       "6942                                                   A new study just commissioned to study the costs of self-driving cars   \n",
       "\n",
       "      sentiment  \n",
       "0             5  \n",
       "1             5  \n",
       "2             2  \n",
       "3             2  \n",
       "4             3  \n",
       "...         ...  \n",
       "6938          3  \n",
       "6939          3  \n",
       "6940          3  \n",
       "6941          3  \n",
       "6942          3  \n",
       "\n",
       "[6943 rows x 3 columns]"
      ]
     },
     "execution_count": 32,
     "metadata": {},
     "output_type": "execute_result"
    }
   ],
   "source": [
    "df = pd.read_csv('Testdata.csv', encoding='utf-8')\n",
    "df"
   ]
  },
  {
   "cell_type": "markdown",
   "metadata": {},
   "source": [
    "As you can see, the data contains the following columns:\n",
    "    * text- Tweets\n",
    "    * class"
   ]
  },
  {
   "cell_type": "markdown",
   "metadata": {},
   "source": [
    "we will be using only the text column, i.e., text."
   ]
  },
  {
   "cell_type": "markdown",
   "metadata": {},
   "source": [
    "## Data Preprocessing\n",
    "Data preprocessing and cleaning is an important step before any text mining task, in this step, we will remove the punctuations, stopwords and normalize the reviews as much as possible. After every preprocessing step, it is a good practice to check the most frequent words in the data. Therefore, let’s define a function that would plot a bar graph of n most frequent words in the data."
   ]
  },
  {
   "cell_type": "code",
   "execution_count": 33,
   "metadata": {},
   "outputs": [],
   "source": [
    "# function to plot most frequent terms\n",
    "def freq_words(x, terms = 30):\n",
    "  all_words = ' '.join([text for text in x])\n",
    "  all_words = all_words.split()\n",
    "\n",
    "  fdist = FreqDist(all_words)\n",
    "  words_df = pd.DataFrame({'word':list(fdist.keys()), 'count':list(fdist.values())})\n",
    "\n",
    "  # selecting top 30 most frequent words\n",
    "  d = words_df.nlargest(columns=\"count\", n = terms) \n",
    "  plt.figure(figsize=(20,5))\n",
    "  ax = sns.barplot(data=d, x= \"word\", y = \"count\")\n",
    "  ax.set(ylabel = 'Count')\n",
    "  plt.show()"
   ]
  },
  {
   "cell_type": "markdown",
   "metadata": {},
   "source": [
    "Let’s try this function and find out which are the most common words in our reviews dataset."
   ]
  },
  {
   "cell_type": "code",
   "execution_count": 34,
   "metadata": {},
   "outputs": [
    {
     "name": "stderr",
     "output_type": "stream",
     "text": [
      "C:\\Users\\admin\\anaconda3\\lib\\site-packages\\seaborn\\categorical.py:340: DeprecationWarning: `np.float` is a deprecated alias for the builtin `float`. To silence this warning, use `float` by itself. Doing this will not modify any behavior and is safe. If you specifically wanted the numpy scalar type, use `np.float64` here.\n",
      "Deprecated in NumPy 1.20; for more details and guidance: https://numpy.org/devdocs/release/1.20.0-notes.html#deprecations\n",
      "  np.asarray(s, dtype=np.float)\n",
      "C:\\Users\\admin\\anaconda3\\lib\\site-packages\\seaborn\\utils.py:538: DeprecationWarning: `np.float` is a deprecated alias for the builtin `float`. To silence this warning, use `float` by itself. Doing this will not modify any behavior and is safe. If you specifically wanted the numpy scalar type, use `np.float64` here.\n",
      "Deprecated in NumPy 1.20; for more details and guidance: https://numpy.org/devdocs/release/1.20.0-notes.html#deprecations\n",
      "  np.asarray(values).astype(np.float)\n"
     ]
    },
    {
     "data": {
      "image/png": "[encoded data removed]",
      "text/plain": [
       "<Figure size 1440x360 with 1 Axes>"
      ]
     },
     "metadata": {
      "needs_background": "light"
     },
     "output_type": "display_data"
    }
   ],
   "source": [
    "freq_words(df['text'])"
   ]
  },
  {
   "cell_type": "markdown",
   "metadata": {},
   "source": [
    "Most common words are ‘the’, ‘and’, ‘to’, so on and so forth. These words are not so important for our task and they do not tell any story. We’ have to get rid of these kinds of words. Before that let’s remove the punctuations and numbers from our text data."
   ]
  },
  {
   "cell_type": "code",
   "execution_count": 35,
   "metadata": {},
   "outputs": [
    {
     "name": "stderr",
     "output_type": "stream",
     "text": [
      "C:\\Users\\admin\\anaconda3\\lib\\site-packages\\ipykernel_launcher.py:2: FutureWarning: The default value of regex will change from True to False in a future version.\n",
      "  \n"
     ]
    }
   ],
   "source": [
    "# remove unwanted characters, numbers and symbols\n",
    "df['text'] = df['text'].str.replace(\"[^a-zA-Z#]\", \" \")"
   ]
  },
  {
   "cell_type": "markdown",
   "metadata": {},
   "source": [
    "Let’s try to remove the stopwords and short words (<5 letters) from the reviews."
   ]
  },
  {
   "cell_type": "code",
   "execution_count": 36,
   "metadata": {},
   "outputs": [],
   "source": [
    "from nltk.corpus import stopwords\n",
    "stop_words = stopwords.words('english')"
   ]
  },
  {
   "cell_type": "code",
   "execution_count": 37,
   "metadata": {},
   "outputs": [],
   "source": [
    "# function to remove stopwords\n",
    "def remove_stopwords(rev):\n",
    "    rev_new = \" \".join([i for i in rev if i not in stop_words])\n",
    "    return rev_new\n",
    "\n",
    "# remove short words (length < 5)\n",
    "df['text'] = df['text'].apply(lambda x: ' '.join([w for w in x.split() if len(w)>5]))\n",
    "\n",
    "# remove stopwords from the text\n",
    "reviews = [remove_stopwords(r.split()) for r in df['text']]\n",
    "\n",
    "# make entire text lowercase\n",
    "reviews = [r.lower() for r in reviews]"
   ]
  },
  {
   "cell_type": "markdown",
   "metadata": {},
   "source": [
    "Let’s again plot the most frequent 40 words and see if the more significant words have come out."
   ]
  },
  {
   "cell_type": "code",
   "execution_count": 38,
   "metadata": {},
   "outputs": [
    {
     "name": "stderr",
     "output_type": "stream",
     "text": [
      "C:\\Users\\admin\\anaconda3\\lib\\site-packages\\seaborn\\categorical.py:340: DeprecationWarning: `np.float` is a deprecated alias for the builtin `float`. To silence this warning, use `float` by itself. Doing this will not modify any behavior and is safe. If you specifically wanted the numpy scalar type, use `np.float64` here.\n",
      "Deprecated in NumPy 1.20; for more details and guidance: https://numpy.org/devdocs/release/1.20.0-notes.html#deprecations\n",
      "  np.asarray(s, dtype=np.float)\n",
      "C:\\Users\\admin\\anaconda3\\lib\\site-packages\\seaborn\\utils.py:538: DeprecationWarning: `np.float` is a deprecated alias for the builtin `float`. To silence this warning, use `float` by itself. Doing this will not modify any behavior and is safe. If you specifically wanted the numpy scalar type, use `np.float64` here.\n",
      "Deprecated in NumPy 1.20; for more details and guidance: https://numpy.org/devdocs/release/1.20.0-notes.html#deprecations\n",
      "  np.asarray(values).astype(np.float)\n"
     ]
    },
    {
     "data": {
      "image/png": "[encoded data removed]",
      "text/plain": [
       "<Figure size 1440x360 with 1 Axes>"
      ]
     },
     "metadata": {
      "needs_background": "light"
     },
     "output_type": "display_data"
    }
   ],
   "source": [
    "freq_words(reviews, 25)"
   ]
  },
  {
   "cell_type": "markdown",
   "metadata": {},
   "source": [
    "We can see some improvement here. Terms like ‘driving’, ‘self’, ‘car’, ‘saw’ have come up which are quite relevant for the car category. However, we still have neutral terms like ‘just’, ‘could’, ‘get’, ‘one’ which are not that relevant."
   ]
  },
  {
   "cell_type": "markdown",
   "metadata": {},
   "source": [
    "To further remove noise from the text we can use lemmatization from the spaCy library. It reduces any given word to its base form thereby reducing multiple forms of a word to a single word."
   ]
  },
  {
   "cell_type": "code",
   "execution_count": 39,
   "metadata": {},
   "outputs": [],
   "source": [
    "#!python -m spacy download en # one time run\n",
    "#import spacy spacy.load('en_core_web_sm')\n",
    "nlp = spacy.load(\"en_core_web_sm\")\n"
   ]
  },
  {
   "cell_type": "code",
   "execution_count": 14,
   "metadata": {},
   "outputs": [
    {
     "name": "stdout",
     "output_type": "stream",
     "text": [
      "Requirement already satisfied: en-core-web-sm==3.0.0 from https://github.com/explosion/spacy-models/releases/download/en_core_web_sm-3.0.0/en_core_web_sm-3.0.0-py3-none-any.whl#egg=en_core_web_sm==3.0.0 in c:\\users\\admin\\anaconda3\\lib\\site-packages (3.0.0)\n",
      "Requirement already satisfied: spacy<3.1.0,>=3.0.0 in c:\\users\\admin\\anaconda3\\lib\\site-packages (from en-core-web-sm==3.0.0) (3.0.5)\n",
      "Requirement already satisfied: thinc<8.1.0,>=8.0.2 in c:\\users\\admin\\anaconda3\\lib\\site-packages (from spacy<3.1.0,>=3.0.0->en-core-web-sm==3.0.0) (8.0.2)\n",
      "Requirement already satisfied: srsly<3.0.0,>=2.4.0 in c:\\users\\admin\\anaconda3\\lib\\site-packages (from spacy<3.1.0,>=3.0.0->en-core-web-sm==3.0.0) (2.4.1)\n",
      "Requirement already satisfied: packaging>=20.0 in c:\\users\\admin\\anaconda3\\lib\\site-packages (from spacy<3.1.0,>=3.0.0->en-core-web-sm==3.0.0) (20.1)\n",
      "Requirement already satisfied: requests<3.0.0,>=2.13.0 in c:\\users\\admin\\anaconda3\\lib\\site-packages (from spacy<3.1.0,>=3.0.0->en-core-web-sm==3.0.0) (2.22.0)\n",
      "Requirement already satisfied: jinja2 in c:\\users\\admin\\anaconda3\\lib\\site-packages (from spacy<3.1.0,>=3.0.0->en-core-web-sm==3.0.0) (2.11.1)\n",
      "Requirement already satisfied: wasabi<1.1.0,>=0.8.1 in c:\\users\\admin\\anaconda3\\lib\\site-packages (from spacy<3.1.0,>=3.0.0->en-core-web-sm==3.0.0) (0.8.2)\n",
      "Requirement already satisfied: numpy>=1.15.0 in c:\\users\\admin\\anaconda3\\lib\\site-packages (from spacy<3.1.0,>=3.0.0->en-core-web-sm==3.0.0) (1.20.2)\n",
      "Requirement already satisfied: murmurhash<1.1.0,>=0.28.0 in c:\\users\\admin\\anaconda3\\lib\\site-packages (from spacy<3.1.0,>=3.0.0->en-core-web-sm==3.0.0) (1.0.5)\n",
      "Requirement already satisfied: typer<0.4.0,>=0.3.0 in c:\\users\\admin\\anaconda3\\lib\\site-packages (from spacy<3.1.0,>=3.0.0->en-core-web-sm==3.0.0) (0.3.2)\n",
      "Requirement already satisfied: pydantic<1.8.0,>=1.7.1 in c:\\users\\admin\\anaconda3\\lib\\site-packages (from spacy<3.1.0,>=3.0.0->en-core-web-sm==3.0.0) (1.7.3)\n",
      "Requirement already satisfied: catalogue<2.1.0,>=2.0.1 in c:\\users\\admin\\anaconda3\\lib\\site-packages (from spacy<3.1.0,>=3.0.0->en-core-web-sm==3.0.0) (2.0.3)\n",
      "Requirement already satisfied: blis<0.8.0,>=0.4.0 in c:\\users\\admin\\anaconda3\\lib\\site-packages (from spacy<3.1.0,>=3.0.0->en-core-web-sm==3.0.0) (0.7.4)\n",
      "Requirement already satisfied: tqdm<5.0.0,>=4.38.0 in c:\\users\\admin\\anaconda3\\lib\\site-packages (from spacy<3.1.0,>=3.0.0->en-core-web-sm==3.0.0) (4.42.1)\n",
      "Requirement already satisfied: cymem<2.1.0,>=2.0.2 in c:\\users\\admin\\anaconda3\\lib\\site-packages (from spacy<3.1.0,>=3.0.0->en-core-web-sm==3.0.0) (2.0.5)\n",
      "Requirement already satisfied: importlib-metadata>=0.20; python_version < \"3.8\" in c:\\users\\admin\\anaconda3\\lib\\site-packages (from spacy<3.1.0,>=3.0.0->en-core-web-sm==3.0.0) (1.5.0)\n",
      "Requirement already satisfied: spacy-legacy<3.1.0,>=3.0.0 in c:\\users\\admin\\anaconda3\\lib\\site-packages (from spacy<3.1.0,>=3.0.0->en-core-web-sm==3.0.0) (3.0.2)\n",
      "Requirement already satisfied: setuptools in c:\\users\\admin\\anaconda3\\lib\\site-packages (from spacy<3.1.0,>=3.0.0->en-core-web-sm==3.0.0) (45.2.0.post20200210)\n",
      "Requirement already satisfied: preshed<3.1.0,>=3.0.2 in c:\\users\\admin\\anaconda3\\lib\\site-packages (from spacy<3.1.0,>=3.0.0->en-core-web-sm==3.0.0) (3.0.5)\n",
      "Requirement already satisfied: pathy>=0.3.5 in c:\\users\\admin\\anaconda3\\lib\\site-packages (from spacy<3.1.0,>=3.0.0->en-core-web-sm==3.0.0) (0.4.0)\n",
      "Requirement already satisfied: typing-extensions<4.0.0.0,>=3.7.4; python_version < \"3.8\" in c:\\users\\admin\\anaconda3\\lib\\site-packages (from spacy<3.1.0,>=3.0.0->en-core-web-sm==3.0.0) (3.7.4.3)\n",
      "Requirement already satisfied: six in c:\\users\\admin\\anaconda3\\lib\\site-packages (from packaging>=20.0->spacy<3.1.0,>=3.0.0->en-core-web-sm==3.0.0) (1.14.0)\n",
      "Requirement already satisfied: pyparsing>=2.0.2 in c:\\users\\admin\\anaconda3\\lib\\site-packages (from packaging>=20.0->spacy<3.1.0,>=3.0.0->en-core-web-sm==3.0.0) (2.4.6)\n",
      "Requirement already satisfied: urllib3!=1.25.0,!=1.25.1,<1.26,>=1.21.1 in c:\\users\\admin\\anaconda3\\lib\\site-packages (from requests<3.0.0,>=2.13.0->spacy<3.1.0,>=3.0.0->en-core-web-sm==3.0.0) (1.25.8)\n",
      "Requirement already satisfied: certifi>=2017.4.17 in c:\\users\\admin\\anaconda3\\lib\\site-packages (from requests<3.0.0,>=2.13.0->spacy<3.1.0,>=3.0.0->en-core-web-sm==3.0.0) (2019.11.28)\n",
      "Requirement already satisfied: idna<2.9,>=2.5 in c:\\users\\admin\\anaconda3\\lib\\site-packages (from requests<3.0.0,>=2.13.0->spacy<3.1.0,>=3.0.0->en-core-web-sm==3.0.0) (2.8)\n",
      "Requirement already satisfied: chardet<3.1.0,>=3.0.2 in c:\\users\\admin\\anaconda3\\lib\\site-packages (from requests<3.0.0,>=2.13.0->spacy<3.1.0,>=3.0.0->en-core-web-sm==3.0.0) (3.0.4)\n",
      "Requirement already satisfied: MarkupSafe>=0.23 in c:\\users\\admin\\anaconda3\\lib\\site-packages (from jinja2->spacy<3.1.0,>=3.0.0->en-core-web-sm==3.0.0) (1.1.1)\n",
      "Requirement already satisfied: click<7.2.0,>=7.1.1 in c:\\users\\admin\\anaconda3\\lib\\site-packages (from typer<0.4.0,>=0.3.0->spacy<3.1.0,>=3.0.0->en-core-web-sm==3.0.0) (7.1.2)\n",
      "Requirement already satisfied: zipp>=0.5; python_version < \"3.8\" in c:\\users\\admin\\anaconda3\\lib\\site-packages (from catalogue<2.1.0,>=2.0.1->spacy<3.1.0,>=3.0.0->en-core-web-sm==3.0.0) (2.2.0)\n",
      "Requirement already satisfied: smart-open<4.0.0,>=2.2.0 in c:\\users\\admin\\anaconda3\\lib\\site-packages (from pathy>=0.3.5->spacy<3.1.0,>=3.0.0->en-core-web-sm==3.0.0) (3.0.0)\n",
      "[!] As of spaCy v3.0, shortcuts like 'en' are deprecated. Please use the full\n",
      "pipeline package name 'en_core_web_sm' instead.\n",
      "[+] Download and installation successful\n",
      "You can now load the package via spacy.load('en_core_web_sm')\n"
     ]
    }
   ],
   "source": [
    "!python -m spacy download en \n",
    "\n"
   ]
  },
  {
   "cell_type": "code",
   "execution_count": 40,
   "metadata": {
    "scrolled": true
   },
   "outputs": [],
   "source": [
    "#nlp = spacy.load('en', disable=['parser', 'ner'])\n",
    "nlp = spacy.load(\"en_core_web_sm\")\n",
    "def lemmatization(texts, tags=['NOUN', 'ADJ']): # filter noun and adjective\n",
    "       output = []\n",
    "       for sent in texts:\n",
    "             doc = nlp(\" \".join(sent)) \n",
    "             output.append([token.lemma_ for token in doc if token.pos_ in tags])\n",
    "       return output\n"
   ]
  },
  {
   "cell_type": "markdown",
   "metadata": {},
   "source": [
    "Let’s tokenize the reviews and then lemmatize the tokenized reviews."
   ]
  },
  {
   "cell_type": "code",
   "execution_count": 41,
   "metadata": {},
   "outputs": [
    {
     "name": "stdout",
     "output_type": "stream",
     "text": [
      "['awesome', 'google', 'driverless', 'travel']\n"
     ]
    }
   ],
   "source": [
    "tokenized_reviews = pd.Series(reviews).apply(lambda x: x.split())\n",
    "print(tokenized_reviews[1])"
   ]
  },
  {
   "cell_type": "code",
   "execution_count": 42,
   "metadata": {},
   "outputs": [
    {
     "name": "stdout",
     "output_type": "stream",
     "text": [
      "['awesome', 'google', 'driverless', 'travel']\n"
     ]
    }
   ],
   "source": [
    "reviews_2 = lemmatization(tokenized_reviews)\n",
    "print(reviews_2[1]) # print lemmatized review"
   ]
  },
  {
   "cell_type": "markdown",
   "metadata": {},
   "source": [
    "As you can see, we have not just lemmatized the words but also filtered only nouns and adjectives. Let’s de-tokenize the lemmatized reviews and plot the most common words."
   ]
  },
  {
   "cell_type": "code",
   "execution_count": 43,
   "metadata": {},
   "outputs": [
    {
     "name": "stderr",
     "output_type": "stream",
     "text": [
      "C:\\Users\\admin\\anaconda3\\lib\\site-packages\\seaborn\\categorical.py:340: DeprecationWarning: `np.float` is a deprecated alias for the builtin `float`. To silence this warning, use `float` by itself. Doing this will not modify any behavior and is safe. If you specifically wanted the numpy scalar type, use `np.float64` here.\n",
      "Deprecated in NumPy 1.20; for more details and guidance: https://numpy.org/devdocs/release/1.20.0-notes.html#deprecations\n",
      "  np.asarray(s, dtype=np.float)\n",
      "C:\\Users\\admin\\anaconda3\\lib\\site-packages\\seaborn\\utils.py:538: DeprecationWarning: `np.float` is a deprecated alias for the builtin `float`. To silence this warning, use `float` by itself. Doing this will not modify any behavior and is safe. If you specifically wanted the numpy scalar type, use `np.float64` here.\n",
      "Deprecated in NumPy 1.20; for more details and guidance: https://numpy.org/devdocs/release/1.20.0-notes.html#deprecations\n",
      "  np.asarray(values).astype(np.float)\n"
     ]
    },
    {
     "data": {
      "image/png": "[encoded data removed]",
      "text/plain": [
       "<Figure size 1440x360 with 1 Axes>"
      ]
     },
     "metadata": {
      "needs_background": "light"
     },
     "output_type": "display_data"
    }
   ],
   "source": [
    "reviews_3 = []\n",
    "for i in range(len(reviews_2)):\n",
    "    reviews_3.append(' '.join(reviews_2[i]))\n",
    "\n",
    "df['reviews'] = reviews_3\n",
    "\n",
    "freq_words(df['reviews'], 25)"
   ]
  },
  {
   "cell_type": "markdown",
   "metadata": {},
   "source": [
    "it seems that now most frequent terms in our data are relevant. We can now go ahead and start building our topic model."
   ]
  },
  {
   "cell_type": "markdown",
   "metadata": {},
   "source": [
    "## Building an LDA model"
   ]
  },
  {
   "cell_type": "markdown",
   "metadata": {},
   "source": [
    "We will start by creating the term dictionary of our corpus, where every unique term is assigned an index"
   ]
  },
  {
   "cell_type": "code",
   "execution_count": 44,
   "metadata": {},
   "outputs": [],
   "source": [
    "dictionary = corpora.Dictionary(reviews_2)"
   ]
  },
  {
   "cell_type": "markdown",
   "metadata": {},
   "source": [
    "Then we will convert the list of reviews (reviews_2) into a Document Term Matrix using the dictionary prepared above."
   ]
  },
  {
   "cell_type": "code",
   "execution_count": 45,
   "metadata": {},
   "outputs": [],
   "source": [
    "doc_term_matrix = [dictionary.doc2bow(rev) for rev in reviews_2]"
   ]
  },
  {
   "cell_type": "code",
   "execution_count": 46,
   "metadata": {},
   "outputs": [],
   "source": [
    "# Creating the object for LDA model using gensim library\n",
    "LDA = gensim.models.ldamodel.LdaModel\n",
    "\n",
    "# Build LDA model\n",
    "lda_model = LDA(corpus=doc_term_matrix, id2word=dictionary, num_topics=10, random_state=100,\n",
    "                chunksize=1000, passes=50)"
   ]
  },
  {
   "cell_type": "markdown",
   "metadata": {},
   "source": [
    "the code above will take a while. Please note that I have specified the number of topics as 10 for this model using the num_topics parameter. You can specify any number of topics using the same parameter.\n",
    "\n",
    "Let’s print out the topics that our LDA model has learned."
   ]
  },
  {
   "cell_type": "code",
   "execution_count": 47,
   "metadata": {},
   "outputs": [
    {
     "data": {
      "text/plain": [
       "[(0,\n",
       "  '0.251*\"driving\" + 0.014*\"service\" + 0.014*\"business\" + 0.013*\"amazing\" + 0.012*\"parking\" + 0.010*\"breakthrough\" + 0.009*\"transit\" + 0.009*\"system\" + 0.008*\"truck\" + 0.007*\"automaker\"'),\n",
       " (1,\n",
       "  '0.168*\"driverless\" + 0.022*\"problem\" + 0.019*\"transportation\" + 0.016*\"change\" + 0.013*\"computer\" + 0.011*\"enough\" + 0.008*\"city\" + 0.008*\"impact\" + 0.008*\"ownership\" + 0.007*\"automobile\"'),\n",
       " (2,\n",
       "  '0.101*\"#\" + 0.099*\"autonomous\" + 0.094*\"vehicle\" + 0.045*\"people\" + 0.017*\"nissan\" + 0.012*\"safety\" + 0.012*\"toyota\" + 0.009*\"ticket\" + 0.009*\"research\" + 0.008*\"codecon\"'),\n",
       " (3,\n",
       "  '0.088*\"driver\" + 0.086*\"google\" + 0.039*\"driverless\" + 0.024*\"steering\" + 0.023*\"accident\" + 0.023*\"prototype\" + 0.017*\"unveil\" + 0.015*\"innovation\" + 0.015*\"valley\" + 0.013*\"silicon\"'),\n",
       " (4,\n",
       "  '0.026*\"drone\" + 0.022*\"driverless\" + 0.019*\"available\" + 0.018*\"well\" + 0.017*\"thank\" + 0.015*\"wonder\" + 0.014*\"control\" + 0.013*\"amazon\" + 0.010*\"museum\" + 0.008*\"working\"'),\n",
       " (5,\n",
       "  '0.290*\"google\" + 0.049*\"driverless\" + 0.044*\"#\" + 0.028*\"street\" + 0.011*\"awesome\" + 0.009*\"highway\" + 0.008*\"mountain\" + 0.007*\"googleplex\" + 0.006*\"project\" + 0.005*\"internet\"'),\n",
       " (6,\n",
       "  '0.082*\"technology\" + 0.035*\"insurance\" + 0.020*\"reality\" + 0.019*\"robotic\" + 0.013*\"industry\" + 0.011*\"drive\" + 0.010*\"person\" + 0.009*\"lifetime\" + 0.008*\"connected\" + 0.008*\"friend\"'),\n",
       " (7,\n",
       "  '0.065*\"driverless\" + 0.060*\"california\" + 0.023*\"#\" + 0.021*\"public\" + 0.017*\"robot\" + 0.017*\"human\" + 0.016*\"company\" + 0.013*\"question\" + 0.011*\"interesting\" + 0.011*\"license\"'),\n",
       " (8,\n",
       "  '0.096*\"future\" + 0.067*\"google\" + 0.059*\"driverless\" + 0.035*\"traffic\" + 0.015*\"electric\" + 0.014*\"testing\" + 0.012*\"morning\" + 0.012*\"government\" + 0.011*\"excited\" + 0.010*\"office\"'),\n",
       " (9,\n",
       "  '0.031*\"thing\" + 0.018*\"driver\" + 0.017*\"economy\" + 0.014*\"state\" + 0.012*\"issue\" + 0.011*\"possible\" + 0.011*\"cadillac\" + 0.011*\"solution\" + 0.011*\"concept\" + 0.009*\"destroy\"')]"
      ]
     },
     "execution_count": 47,
     "metadata": {},
     "output_type": "execute_result"
    }
   ],
   "source": [
    "lda_model.print_topics()"
   ]
  },
  {
   "cell_type": "markdown",
   "metadata": {},
   "source": [
    "The fourth topic Topic 3 has terms like ‘towel’, ‘clean’, ‘wax’, ‘water’, indicating that the topic is very much related to car-wash. Similarly, Topic 6 seems to be about the overall value of the product as it has terms like ‘price’, ‘quality’, and ‘worth’.\n",
    "\n",
    " "
   ]
  },
  {
   "cell_type": "markdown",
   "metadata": {},
   "source": [
    "## topics Visualization"
   ]
  },
  {
   "cell_type": "markdown",
   "metadata": {},
   "source": [
    "To visualize our topics in a 2-dimensional space we will use the pyLDAvis library. This visualization is interactive in nature and displays topics along with the most relevant words."
   ]
  },
  {
   "cell_type": "code",
   "execution_count": 48,
   "metadata": {},
   "outputs": [
    {
     "data": {
      "text/html": [
       "\n",
       "<link rel=\"stylesheet\" type=\"text/css\" href=\"https://cdn.jsdelivr.net/gh/bmabey/pyLDAvis@3.3.1/pyLDAvis/js/ldavis.v1.0.0.css\">\n",
       "\n",
       "\n",
       "<div id=\"ldavis_el14402979748261704734992949\"></div>\n",
       "<script type=\"text/javascript\">\n",
       "\n",
       "var ldavis_el14402979748261704734992949_data = {\"mdsDat\": {\"x\": [0.22494814276758046, -0.10579346195381806, 0.005578152156513618, 0.14998052046114546, -0.20895301524665935, 0.029674890632336904, 0.14328327360576237, -0.1071526011296862, -0.052936129047871365, -0.0786297722453039], \"y\": [-0.0775102915279919, -0.3072078386044427, -0.007665066935937713, 0.062367263352153125, 0.12549786506143737, 0.08969779408035176, 0.03602199063128182, 0.023074030923124125, 0.03417817096727308, 0.021546082052751266], \"topics\": [1, 2, 3, 4, 5, 6, 7, 8, 9, 10], \"cluster\": [1, 1, 1, 1, 1, 1, 1, 1, 1, 1], \"Freq\": [19.396221618272378, 11.848300615062337, 11.54212956492715, 10.703883450059774, 10.653545304870498, 10.33174734691139, 9.944190624787232, 5.736202603312957, 5.141017724900101, 4.702761146896184]}, \"tinfo\": {\"Term\": [\"google\", \"driving\", \"driverless\", \"autonomous\", \"#\", \"vehicle\", \"future\", \"driver\", \"california\", \"technology\", \"people\", \"street\", \"traffic\", \"insurance\", \"steering\", \"accident\", \"prototype\", \"problem\", \"public\", \"thing\", \"transportation\", \"nissan\", \"robot\", \"drone\", \"human\", \"company\", \"unveil\", \"change\", \"electric\", \"testing\", \"street\", \"awesome\", \"highway\", \"mountain\", \"googleplex\", \"internet\", \"glass\", \"android\", \"launch\", \"report\", \"googlecar\", \"mainstream\", \"cruise\", \"teslamotor\", \"mastering\", \"partner\", \"vmworld\", \"important\", \"wheel\", \"incredible\", \"close\", \"coffee\", \"answer\", \"phone\", \"forbe\", \"destination\", \"usatoday\", \"figure\", \"police\", \"century\", \"google\", \"project\", \"#\", \"driverless\", \"design\", \"article\", \"autonomous\", \"vehicle\", \"people\", \"nissan\", \"safety\", \"ticket\", \"codecon\", \"avpolicy\", \"picture\", \"big\", \"easy\", \"program\", \"siliconvalley\", \"hybrid\", \"driverlesscar\", \"toronto\", \"thefuture\", \"alternative\", \"multiple\", \"mercedesbenz\", \"zipcar\", \"facility\", \"expert\", \"number\", \"inevitable\", \"arrive\", \"engineering\", \"network\", \"googlex\", \"aarpca\", \"research\", \"toyota\", \"#\", \"project\", \"california\", \"public\", \"robot\", \"human\", \"company\", \"question\", \"license\", \"market\", \"nevada\", \"reshape\", \"permit\", \"building\", \"mercede\", \"nvidia\", \"pedestrian\", \"florida\", \"passenger\", \"science\", \"potential\", \"sensor\", \"conference\", \"tesla\", \"complete\", \"social\", \"corner\", \"second\", \"mapping\", \"washington\", \"germany\", \"consumer\", \"interesting\", \"driverless\", \"#\", \"regulation\", \"accident\", \"future\", \"traffic\", \"electric\", \"morning\", \"government\", \"excited\", \"office\", \"reason\", \"delivery\", \"mobile\", \"university\", \"decade\", \"freeway\", \"transport\", \"vision\", \"engineer\", \"school\", \"nytime\", \"massive\", \"implication\", \"iphone\", \"downtown\", \"standard\", \"obsolete\", \"futuristic\", \"invent\", \"demand\", \"bitcoin\", \"screen\", \"bbcworld\", \"testing\", \"michigan\", \"driverless\", \"google\", \"interesting\", \"driving\", \"service\", \"business\", \"amazing\", \"breakthrough\", \"transit\", \"truck\", \"automaker\", \"selfdrivingcar\", \"death\", \"brake\", \"little\", \"infrastructure\", \"train\", \"tonight\", \"software\", \"course\", \"opportunity\", \"manual\", \"regulator\", \"mobility\", \"imagine\", \"disruption\", \"fleet\", \"latime\", \"policy\", \"sayfie\", \"designing\", \"effort\", \"product\", \"parking\", \"system\", \"design\", \"center\", \"camera\", \"city\", \"industry\", \"problem\", \"transportation\", \"change\", \"computer\", \"enough\", \"impact\", \"ownership\", \"automobile\", \"commute\", \"challenge\", \"button\", \"dangerous\", \"fucking\", \"location\", \"device\", \"algorithm\", \"canada\", \"driverlesstran\", \"thinking\", \"country\", \"bridge\", \"actual\", \"intersection\", \"economic\", \"discussion\", \"expensive\", \"smart\", \"youtube\", \"motorcycle\", \"moonshot\", \"driverless\", \"city\", \"thought\", \"article\", \"machine\", \"parking\", \"steering\", \"prototype\", \"unveil\", \"valley\", \"silicon\", \"detroit\", \"mashable\", \"pedal\", \"cyclist\", \"yesterday\", \"history\", \"campus\", \"exciting\", \"travel\", \"revolution\", \"development\", \"minute\", \"light\", \"simple\", \"upcoming\", \"gesture\", \"automation\", \"fast\", \"driver\", \"attention\", \"navigate\", \"obvious\", \"carnegiemellon\", \"interested\", \"realistic\", \"innovation\", \"accident\", \"google\", \"driverless\", \"engine\", \"search\", \"technology\", \"insurance\", \"reality\", \"robotic\", \"drive\", \"person\", \"lifetime\", \"connected\", \"friend\", \"skynet\", \"cheap\", \"francisco\", \"version\", \"wearable\", \"experience\", \"pretty\", \"checkince\", \"disrupt\", \"fascinating\", \"source\", \"drift\", \"reading\", \"factor\", \"assist\", \"series\", \"computing\", \"balaji\", \"living\", \"experiment\", \"watch\", \"industry\", \"automotive\", \"drone\", \"available\", \"well\", \"thank\", \"wonder\", \"control\", \"amazon\", \"museum\", \"working\", \"general\", \"congestion\", \"gizmodo\", \"argument\", \"sighting\", \"motor\", \"private\", \"late\", \"techcrunch\", \"plane\", \"update\", \"session\", \"military\", \"rocket\", \"insurer\", \"amount\", \"jealous\", \"parallel\", \"benedictevan\", \"grandma\", \"inspiration\", \"driverless\", \"interesting\", \"thing\", \"economy\", \"state\", \"issue\", \"possible\", \"cadillac\", \"solution\", \"concept\", \"destroy\", \"trend\", \"american\", \"release\", \"energy\", \"friendly\", \"terrible\", \"printer\", \"headline\", \"jeffreybrande\", \"pittsburgh\", \"employee\", \"emergency\", \"carmaker\", \"serious\", \"sharing\", \"nbcnew\", \"common\", \"impossible\", \"legality\", \"overcome\", \"soylent\", \"driver\", \"testing\"], \"Freq\": [1762.0, 654.0, 1120.0, 288.0, 568.0, 272.0, 253.0, 236.0, 170.0, 116.0, 129.0, 133.0, 91.0, 49.0, 60.0, 73.0, 55.0, 56.0, 59.0, 36.0, 47.0, 51.0, 50.0, 33.0, 47.0, 45.0, 41.0, 41.0, 40.0, 44.0, 132.83564039124437, 52.762369472270514, 40.34867082820672, 38.29013659382816, 31.425616974137952, 24.711910951215902, 22.1210044109389, 21.256827610542324, 20.717445086036975, 20.66610677851446, 19.60965379937809, 19.57278221465359, 19.063404663013205, 15.652407489119243, 14.857636934400666, 13.663922416780041, 12.598207907104685, 12.209890843509056, 12.19558982080418, 10.517261078128618, 10.387805118698333, 10.218640788949068, 10.128050338697346, 10.007254970801606, 9.88640768354335, 9.709001431161528, 9.439515637024341, 9.39539964422796, 9.102639062675324, 9.103569744865101, 1376.149895970512, 30.667980914958317, 208.5434561925165, 233.5586380821926, 15.566504142168677, 10.363801803206732, 288.1243123038726, 271.98296695135616, 129.04455129590596, 50.42629735810167, 35.4311846946628, 27.14683753837122, 22.41218376237438, 18.83499527589544, 14.416346953834221, 11.373043709863508, 10.953099250856013, 10.932339251303741, 10.060248547537604, 9.759309866558366, 9.64901701276931, 9.159256469455725, 8.9168445897496, 8.31212567543895, 8.225200895256107, 8.146664463990355, 7.968724984649006, 7.727371854798154, 7.686474014627046, 7.336884124555664, 7.067601321977084, 6.950344606807254, 6.835787062715243, 6.7677679515542115, 6.443580635288952, 6.420139009270866, 25.414388077928685, 33.54029119278123, 293.70725616786416, 12.190881749758258, 170.23684733701788, 58.77711598083046, 49.29650883007744, 46.86568181503164, 44.73556075873274, 37.74293899845828, 29.917100736027184, 27.662197829303377, 23.95528602351012, 22.223795860076557, 21.77515204606306, 20.569677753699594, 20.414431419984417, 17.651447929651496, 16.843795982888413, 16.573229773814795, 15.23209571221304, 14.976613182441564, 14.38230859261335, 13.74929496681434, 13.24673748411591, 13.034372216297983, 13.023277370169614, 12.787076391923042, 12.541117628635025, 12.161546101135604, 12.061320422767302, 11.677455049142125, 10.761508385248698, 10.607275693714465, 31.2641720325046, 184.36636198385457, 66.09823143154625, 13.252639221794574, 17.605966817320084, 252.3507333535891, 90.9737026330436, 39.552501759412685, 31.802581832232104, 31.712505102650393, 28.070825336377197, 26.542820170497436, 22.63219528414423, 22.31976997551058, 22.20846157065903, 22.12989437447271, 20.54316864213228, 17.15801857448091, 16.433673893315586, 15.705024110199085, 15.362827637746728, 12.847128937389096, 12.506411391208834, 10.48617737660875, 9.866533482049606, 9.465022068398204, 9.39091908370841, 8.927598793417255, 8.8706985376938, 8.42593919884806, 8.320380683773271, 8.170775647701818, 8.044663349366493, 7.553078863824077, 7.310844030063929, 37.58399602588952, 19.59225684531035, 155.59427049671135, 176.56537188124977, 8.811327511904057, 653.463525561245, 36.57404506146786, 36.306325902655, 32.68463605309495, 25.27214834331605, 23.98653380406221, 20.966893519014146, 18.30645546281213, 18.281207455767102, 17.54504833158092, 17.45793020826218, 16.16493761061971, 14.419796237384725, 12.266122791297754, 11.38300560707244, 10.144936465301429, 9.754607445880133, 9.346183374211796, 8.952040942210523, 8.923469168401274, 8.228593800039153, 7.843298970622006, 7.797517390222707, 7.739654845960254, 7.684150732039625, 7.593433985011761, 7.20259833082447, 7.126066143748031, 6.7591794486608645, 6.737664156682187, 31.87230211653553, 22.18328294003811, 17.7014680234056, 11.691334424433881, 10.325431319856563, 8.41166248055519, 8.177062066732862, 56.0930825800575, 47.25587535248442, 40.501763050923294, 31.9179651933748, 27.985971590235756, 19.290373750555954, 19.014770318815433, 17.870629307996182, 17.3239156269549, 14.823766754967984, 14.765207101169521, 14.123787066843844, 11.435923671174622, 11.354173170556374, 11.309404927185245, 11.209440444214929, 10.64675937204146, 10.312872844353008, 10.025027902990066, 9.646936250787853, 9.116217616663809, 8.87395411643676, 8.556505128226405, 8.527298265526037, 8.211458020216455, 8.042510594587286, 7.6892761973595745, 7.643255794188575, 7.553258573835746, 7.476502590313973, 424.434910184769, 20.5909088142739, 11.782628361024907, 13.576248419618622, 11.730018819959664, 9.397653476945834, 59.36557527753768, 55.09027799821773, 41.21334745044683, 35.62736783361228, 30.625520116329803, 29.722712946496998, 25.501467973259313, 23.41704477079141, 21.903586996670622, 15.635762231405284, 13.372722888987285, 13.141754621316815, 12.816909549878698, 12.52247626314307, 11.508343090565306, 9.6465005336694, 8.779958360854259, 8.769151297729135, 8.415292756170643, 8.275653290119202, 8.208426583952216, 7.7376691698682825, 7.318347531542849, 214.73599316010245, 6.952960398800258, 6.926883445937182, 6.7603645111203345, 6.690590369153285, 6.657366097527028, 6.421470597428689, 36.65597007907133, 55.122079602274006, 209.63113570225556, 95.21878705709545, 7.903803554016335, 7.519099404762281, 115.44333086022354, 48.840586146654424, 27.602759137445506, 27.025271772874554, 14.901217792675158, 14.234415379240849, 12.266466974583691, 11.690027638765423, 11.513826824643743, 11.475333329671425, 11.33646167932675, 11.306170773482355, 10.300472189608904, 10.29295826775363, 9.383089629684314, 9.02253898984278, 8.413779335894684, 6.062984198405609, 5.436770684064476, 5.384923969878572, 5.09881996101008, 5.074187038322708, 5.056365649143269, 4.931104651508787, 4.423418354050791, 4.423058339186247, 4.295528463843726, 4.173523281218359, 3.984274378448866, 3.8807753319685316, 17.567909965881142, 10.74039075254643, 33.17211936394511, 23.300924610772764, 23.032736225505754, 21.698303714626903, 18.691737292925776, 17.418649991147326, 16.0028860936294, 12.436945621455816, 9.890934983023756, 9.383730536147642, 9.207682352785133, 9.184094212807535, 8.738947052145416, 8.73727929258989, 8.389786832334519, 8.075776050571715, 7.616418383893452, 7.569014895122404, 7.332102271829118, 6.720141092281707, 5.431406832875556, 4.99480869670471, 4.819706826348427, 4.680654445457671, 4.588646879627373, 4.195594659870821, 4.181638299798179, 4.004570897507862, 3.844129851671307, 3.6151027797034185, 27.049633494068416, 4.217994931077918, 35.43974729179958, 20.05376184659251, 15.934091494839928, 13.23268336480989, 13.197981594990695, 13.09381629050024, 13.001898543435395, 12.350877442943608, 10.76246180860664, 8.77025924755903, 8.646979097058447, 8.33343648453137, 6.163226518261992, 5.780290008155384, 5.646406271263966, 5.451772206886599, 4.851554578831942, 4.746565413979317, 4.58726574561602, 4.537423800714709, 4.206116766087143, 4.142526852268392, 4.0584478312177055, 4.021259481553791, 3.4978362990848577, 3.4901896107428954, 3.465742706185945, 3.4215319914909306, 3.4215319914909306, 3.204354525675573, 20.8731268666536, 6.42486753498234], \"Total\": [1762.0, 654.0, 1120.0, 288.0, 568.0, 272.0, 253.0, 236.0, 170.0, 116.0, 129.0, 133.0, 91.0, 49.0, 60.0, 73.0, 55.0, 56.0, 59.0, 36.0, 47.0, 51.0, 50.0, 33.0, 47.0, 45.0, 41.0, 41.0, 40.0, 44.0, 133.547357189857, 53.47411098158199, 41.060458397271994, 39.001846028347806, 32.137327196414816, 25.423693040132957, 22.832744892374176, 21.968603271606362, 21.429184711886087, 21.37788660665213, 20.32135037292143, 20.284601239184145, 19.775154830588896, 16.36420750188642, 15.569319718689664, 14.375674795937107, 13.309903744360923, 12.921737916487123, 12.907327662600489, 11.228987071153608, 11.09959211270954, 10.930414952883856, 10.839872509347401, 10.718990237860131, 10.598159217587698, 10.420771541712384, 10.151219860101829, 10.107198500774759, 9.81440670792932, 9.815413201388344, 1762.8967513009488, 43.48997286161134, 568.8983776643026, 1120.5296767787363, 33.905768277311545, 24.5683471537798, 288.8376415155395, 272.6962935992821, 129.75786782528294, 51.139586858434505, 36.14450803366906, 27.860151355084174, 23.12548841442824, 19.548370487071054, 15.129664088169115, 12.086383971220855, 11.666386089262653, 11.645672309025434, 10.773565673227628, 10.472605120222994, 10.36231151897753, 9.872553965071809, 9.63013733101923, 9.025437458148302, 8.93852963159889, 8.860000547370397, 8.682053452648798, 8.440705660428788, 8.399781143785862, 8.050208511739097, 7.780911634777124, 7.663685769041285, 7.549078103755513, 7.481120697009459, 7.156875763171765, 7.133418092442407, 28.88649342364817, 43.46466628363448, 568.8983776643026, 43.48997286161134, 170.9490587775935, 59.489365848038545, 50.008788310904066, 47.577910215611084, 45.44782459536252, 38.455188789820006, 30.62932851329396, 28.374451596827868, 24.667505586207305, 22.936178369306006, 22.487383899952956, 21.28192061072002, 21.126705063521275, 18.36369279989901, 17.556032780844312, 17.285457325028897, 15.944318045190537, 15.688852750201988, 15.0945493229733, 14.461544926329491, 13.958985153864406, 13.746649789265058, 13.73551576489215, 13.499348903254784, 13.253367962277368, 12.873790232574532, 12.773577709427684, 12.389702861974111, 11.47375247547906, 11.31952152947183, 52.568541539971015, 1120.5296767787363, 568.8983776643026, 17.857089141757694, 73.35946878771846, 253.0641090999542, 91.68707340794342, 40.26590339929225, 32.515920780289754, 32.425866724541784, 28.784185982289383, 27.256184018964056, 23.34556147167082, 23.03313355074645, 22.921836987606543, 22.843234694620254, 21.256552028631504, 17.871352660364114, 17.147053412952236, 16.418410955700683, 16.07620570041885, 13.560469860399206, 13.2197534792204, 11.199547108836704, 10.579893619617138, 10.178391867468449, 10.104273962533473, 9.641004031136088, 9.584108848406714, 9.139320500530703, 9.033738820203535, 8.884143701603072, 8.758057890045208, 8.266419272857727, 8.024178223768232, 44.645675116556276, 25.11023171236859, 1120.5296767787363, 1762.8967513009488, 52.568541539971015, 654.1835098849403, 37.29403311001389, 37.02634075227211, 33.40462198716326, 25.992058653674572, 24.706512909144077, 21.68688891329404, 19.0264244148251, 19.001248778472103, 18.26507019347129, 18.177898328537808, 16.884900700605986, 15.139759717002777, 12.986083598393956, 12.102959814208187, 10.864923561293217, 10.474583901139386, 10.066151492172763, 9.671996591780255, 9.643497874158975, 8.948647418347491, 8.563268218383744, 8.517478227215298, 8.459635953511148, 8.404144337131022, 8.313566624123716, 7.922604017281046, 7.846021933061629, 7.479188486793906, 7.457620293287843, 41.90650477866207, 32.58151794881531, 33.905768277311545, 19.737009160825306, 16.66754619806374, 29.639091026959136, 26.38907300000285, 56.80360151988425, 47.96638653012098, 41.212292475522815, 32.62851660550549, 28.69646478428151, 20.000918077947595, 19.725271404303182, 18.58115154975924, 18.03442431655083, 15.534268902841596, 15.475705626221869, 14.8342787419678, 12.146413051660529, 12.064686245253178, 12.019908195019696, 11.919938549521104, 11.3572417256885, 11.023349887726777, 10.735549445873113, 10.357406606065302, 9.826745985248087, 9.58446436941987, 9.266978781365314, 9.237836376037507, 8.922004287510358, 8.753024294567702, 8.399799405147855, 8.35377039495198, 8.263796214948394, 8.18698027450839, 1120.5296767787363, 29.639091026959136, 17.591795356598794, 24.5683471537798, 18.68948859904194, 41.90650477866207, 60.078671621891594, 55.80336350921479, 41.92644518409408, 36.34046495187408, 31.338617029814632, 30.435831910724147, 26.21459680167192, 24.130120555161522, 22.616673643606866, 16.348865999198313, 14.085868917455526, 13.854911000640257, 13.530039134467316, 13.235616504355178, 12.221472655448125, 10.359626558426731, 9.49306885359032, 9.482279276262767, 9.128408558864194, 8.988751608192663, 8.921541604824414, 8.450811380238752, 8.031442502319326, 236.2456698466724, 7.666073824982506, 7.639968454674871, 7.473472214581653, 7.403754982551204, 7.370537277355811, 7.1345907924662155, 41.243141479245544, 73.35946878771846, 1762.8967513009488, 1120.5296767787363, 10.276032458955722, 15.640019557849667, 116.16139603521749, 49.55864429455435, 28.320797350059536, 27.743367890865347, 15.6192627741227, 14.952455751792733, 12.984529312421188, 12.408074933050681, 12.231890053795318, 12.193430707840898, 12.054525112077966, 12.024249232449408, 11.018522314063947, 11.011027475163669, 10.10114144640776, 9.740594340738998, 9.131803556275658, 6.781069470403617, 6.154838269699633, 6.102979167263146, 5.816845362788004, 5.792234327432401, 5.774431819230508, 5.649156435353509, 5.141479558361196, 5.141125714051791, 5.013566279750193, 4.891555367861438, 4.702333869185154, 4.598808454621246, 26.38907300000285, 16.199630605855624, 33.88790651780388, 24.016706905481982, 23.748527867025015, 22.41409274022876, 19.40751863307343, 18.134439165406558, 16.718669945500466, 13.152739776073654, 10.60672308519743, 10.099504398663413, 9.92352904154651, 9.899860645904393, 9.4547384220962, 9.453038615120887, 9.105560801506764, 8.791595334017641, 8.332192860291713, 8.284816497177317, 8.047866611028402, 7.435908932466657, 6.1472294782471195, 5.710602075666263, 5.535461415005518, 5.396412245647962, 5.304406780560878, 4.911350566678424, 4.897431529060884, 4.720357116398922, 4.559908451864417, 4.330886701223619, 1120.5296767787363, 52.568541539971015, 36.157092566281264, 20.771112663200395, 16.65144593537062, 13.95003638119357, 13.915332230433576, 13.811171463903209, 13.719239509460508, 13.068233760382931, 11.47980904577329, 9.487619884284154, 9.364329106226656, 9.050781263717335, 6.880612012068683, 6.497652858603789, 6.363739532923534, 6.169107954926117, 5.568901551862131, 5.463929779569573, 5.304651259445096, 5.254768842817333, 4.923476020358184, 4.859880440515185, 4.775798515364822, 4.738599713043497, 4.215181683795604, 4.20753460395543, 4.183094935064373, 4.138862001672071, 4.138862001672071, 3.921697088488019, 236.2456698466724, 44.645675116556276], \"Category\": [\"Default\", \"Default\", \"Default\", \"Default\", \"Default\", \"Default\", \"Default\", \"Default\", \"Default\", \"Default\", \"Default\", \"Default\", \"Default\", \"Default\", \"Default\", \"Default\", \"Default\", \"Default\", \"Default\", \"Default\", \"Default\", \"Default\", \"Default\", \"Default\", \"Default\", \"Default\", \"Default\", \"Default\", \"Default\", \"Default\", \"Topic1\", \"Topic1\", \"Topic1\", \"Topic1\", \"Topic1\", \"Topic1\", \"Topic1\", \"Topic1\", \"Topic1\", \"Topic1\", \"Topic1\", \"Topic1\", \"Topic1\", \"Topic1\", \"Topic1\", \"Topic1\", \"Topic1\", \"Topic1\", \"Topic1\", \"Topic1\", \"Topic1\", \"Topic1\", \"Topic1\", \"Topic1\", \"Topic1\", \"Topic1\", \"Topic1\", \"Topic1\", \"Topic1\", \"Topic1\", \"Topic1\", \"Topic1\", \"Topic1\", \"Topic1\", \"Topic1\", \"Topic1\", \"Topic2\", \"Topic2\", \"Topic2\", \"Topic2\", \"Topic2\", \"Topic2\", \"Topic2\", \"Topic2\", \"Topic2\", \"Topic2\", \"Topic2\", \"Topic2\", \"Topic2\", \"Topic2\", \"Topic2\", \"Topic2\", \"Topic2\", \"Topic2\", \"Topic2\", \"Topic2\", \"Topic2\", \"Topic2\", \"Topic2\", \"Topic2\", \"Topic2\", \"Topic2\", \"Topic2\", \"Topic2\", \"Topic2\", \"Topic2\", \"Topic2\", \"Topic2\", \"Topic2\", \"Topic2\", \"Topic3\", \"Topic3\", \"Topic3\", \"Topic3\", \"Topic3\", \"Topic3\", \"Topic3\", \"Topic3\", \"Topic3\", \"Topic3\", \"Topic3\", \"Topic3\", \"Topic3\", \"Topic3\", \"Topic3\", \"Topic3\", \"Topic3\", \"Topic3\", \"Topic3\", \"Topic3\", \"Topic3\", \"Topic3\", \"Topic3\", \"Topic3\", \"Topic3\", \"Topic3\", \"Topic3\", \"Topic3\", \"Topic3\", \"Topic3\", \"Topic3\", \"Topic3\", \"Topic3\", \"Topic3\", \"Topic3\", \"Topic4\", \"Topic4\", \"Topic4\", \"Topic4\", \"Topic4\", \"Topic4\", \"Topic4\", \"Topic4\", \"Topic4\", \"Topic4\", \"Topic4\", \"Topic4\", \"Topic4\", \"Topic4\", \"Topic4\", \"Topic4\", \"Topic4\", \"Topic4\", \"Topic4\", \"Topic4\", \"Topic4\", \"Topic4\", \"Topic4\", \"Topic4\", \"Topic4\", \"Topic4\", \"Topic4\", \"Topic4\", \"Topic4\", \"Topic4\", \"Topic4\", \"Topic4\", \"Topic4\", \"Topic4\", \"Topic4\", \"Topic5\", \"Topic5\", \"Topic5\", \"Topic5\", \"Topic5\", \"Topic5\", \"Topic5\", \"Topic5\", \"Topic5\", \"Topic5\", \"Topic5\", \"Topic5\", \"Topic5\", \"Topic5\", \"Topic5\", \"Topic5\", \"Topic5\", \"Topic5\", \"Topic5\", \"Topic5\", \"Topic5\", \"Topic5\", \"Topic5\", \"Topic5\", \"Topic5\", \"Topic5\", \"Topic5\", \"Topic5\", \"Topic5\", \"Topic5\", \"Topic5\", \"Topic5\", \"Topic5\", \"Topic5\", \"Topic5\", \"Topic5\", \"Topic5\", \"Topic6\", \"Topic6\", \"Topic6\", \"Topic6\", \"Topic6\", \"Topic6\", \"Topic6\", \"Topic6\", \"Topic6\", \"Topic6\", \"Topic6\", \"Topic6\", \"Topic6\", \"Topic6\", \"Topic6\", \"Topic6\", \"Topic6\", \"Topic6\", \"Topic6\", \"Topic6\", \"Topic6\", \"Topic6\", \"Topic6\", \"Topic6\", \"Topic6\", \"Topic6\", \"Topic6\", \"Topic6\", \"Topic6\", \"Topic6\", \"Topic6\", \"Topic6\", \"Topic6\", \"Topic6\", \"Topic6\", \"Topic6\", \"Topic7\", \"Topic7\", \"Topic7\", \"Topic7\", \"Topic7\", \"Topic7\", \"Topic7\", \"Topic7\", \"Topic7\", \"Topic7\", \"Topic7\", \"Topic7\", \"Topic7\", \"Topic7\", \"Topic7\", \"Topic7\", \"Topic7\", \"Topic7\", \"Topic7\", \"Topic7\", \"Topic7\", \"Topic7\", \"Topic7\", \"Topic7\", \"Topic7\", \"Topic7\", \"Topic7\", \"Topic7\", \"Topic7\", \"Topic7\", \"Topic7\", \"Topic7\", \"Topic7\", \"Topic7\", \"Topic7\", \"Topic7\", \"Topic8\", \"Topic8\", \"Topic8\", \"Topic8\", \"Topic8\", \"Topic8\", \"Topic8\", \"Topic8\", \"Topic8\", \"Topic8\", \"Topic8\", \"Topic8\", \"Topic8\", \"Topic8\", \"Topic8\", \"Topic8\", \"Topic8\", \"Topic8\", \"Topic8\", \"Topic8\", \"Topic8\", \"Topic8\", \"Topic8\", \"Topic8\", \"Topic8\", \"Topic8\", \"Topic8\", \"Topic8\", \"Topic8\", \"Topic8\", \"Topic8\", \"Topic8\", \"Topic9\", \"Topic9\", \"Topic9\", \"Topic9\", \"Topic9\", \"Topic9\", \"Topic9\", \"Topic9\", \"Topic9\", \"Topic9\", \"Topic9\", \"Topic9\", \"Topic9\", \"Topic9\", \"Topic9\", \"Topic9\", \"Topic9\", \"Topic9\", \"Topic9\", \"Topic9\", \"Topic9\", \"Topic9\", \"Topic9\", \"Topic9\", \"Topic9\", \"Topic9\", \"Topic9\", \"Topic9\", \"Topic9\", \"Topic9\", \"Topic9\", \"Topic9\", \"Topic10\", \"Topic10\", \"Topic10\", \"Topic10\", \"Topic10\", \"Topic10\", \"Topic10\", \"Topic10\", \"Topic10\", \"Topic10\", \"Topic10\", \"Topic10\", \"Topic10\", \"Topic10\", \"Topic10\", \"Topic10\", \"Topic10\", \"Topic10\", \"Topic10\", \"Topic10\", \"Topic10\", \"Topic10\", \"Topic10\", \"Topic10\", \"Topic10\", \"Topic10\", \"Topic10\", \"Topic10\", \"Topic10\", \"Topic10\", \"Topic10\", \"Topic10\"], \"logprob\": [30.0, 29.0, 28.0, 27.0, 26.0, 25.0, 24.0, 23.0, 22.0, 21.0, 20.0, 19.0, 18.0, 17.0, 16.0, 15.0, 14.0, 13.0, 12.0, 11.0, 10.0, 9.0, 8.0, 7.0, 6.0, 5.0, 4.0, 3.0, 2.0, 1.0, -3.5756, -4.4989, -4.7672, -4.8196, -5.0171, -5.2575, -5.3682, -5.4081, -5.4338, -5.4362, -5.4887, -5.4906, -5.517, -5.7141, -5.7662, -5.85, -5.9312, -5.9625, -5.9637, -6.1117, -6.1241, -6.1405, -6.1494, -6.1614, -6.1736, -6.1917, -6.2198, -6.2245, -6.2562, -6.2561, -1.2377, -5.0415, -3.1246, -3.0113, -5.7196, -6.1264, -2.3085, -2.3661, -3.1117, -4.0513, -4.4043, -4.6706, -4.8622, -5.0361, -5.3035, -5.5406, -5.5782, -5.5801, -5.6633, -5.6936, -5.705, -5.7571, -5.7839, -5.8541, -5.8646, -5.8742, -5.8963, -5.9271, -5.9324, -5.9789, -6.0163, -6.0331, -6.0497, -6.0597, -6.1088, -6.1124, -4.7365, -4.4591, -2.2893, -5.4712, -2.8085, -3.8719, -4.0478, -4.0984, -4.1449, -4.3149, -4.5472, -4.6256, -4.7695, -4.8445, -4.8649, -4.9219, -4.9294, -5.0749, -5.1217, -5.1379, -5.2223, -5.2392, -5.2797, -5.3247, -5.3619, -5.3781, -5.3789, -5.3972, -5.4167, -5.4474, -5.4557, -5.488, -5.5697, -5.5841, -4.5032, -2.7287, -3.7545, -5.3615, -5.0774, -2.3395, -3.3597, -4.1926, -4.4107, -4.4136, -4.5355, -4.5915, -4.7509, -4.7648, -4.7698, -4.7733, -4.8477, -5.0278, -5.0709, -5.1163, -5.1383, -5.3172, -5.344, -5.5202, -5.5811, -5.6227, -5.6305, -5.6811, -5.6875, -5.739, -5.7516, -5.7697, -5.7853, -5.8483, -5.8809, -4.2437, -4.8951, -2.823, -2.6966, -5.6942, -1.3833, -4.2662, -4.2736, -4.3787, -4.6359, -4.6881, -4.8226, -4.9583, -4.9597, -5.0008, -5.0058, -5.0827, -5.197, -5.3587, -5.4334, -5.5486, -5.5878, -5.6306, -5.6737, -5.6769, -5.7579, -5.8059, -5.8118, -5.8192, -5.8264, -5.8383, -5.8911, -5.9018, -5.9547, -5.9578, -4.4038, -4.7662, -4.9919, -5.4067, -5.5309, -5.7359, -5.7642, -3.8079, -3.9793, -4.1335, -4.3717, -4.5032, -4.8753, -4.8897, -4.9517, -4.9828, -5.1387, -5.1426, -5.187, -5.3981, -5.4053, -5.4093, -5.4181, -5.4696, -5.5015, -5.5298, -5.5682, -5.6248, -5.6518, -5.6882, -5.6916, -5.7294, -5.7501, -5.7951, -5.8011, -5.8129, -5.8231, -1.7841, -4.81, -5.3683, -5.2266, -5.3727, -5.5944, -3.7129, -3.7877, -4.0779, -4.2235, -4.3748, -4.4047, -4.5579, -4.6432, -4.71, -5.0471, -5.2034, -5.2209, -5.2459, -5.2691, -5.3536, -5.5301, -5.6242, -5.6254, -5.6666, -5.6833, -5.6915, -5.7506, -5.8063, -2.4272, -5.8575, -5.8612, -5.8856, -5.896, -5.9009, -5.937, -4.1951, -3.7871, -2.4513, -3.2405, -5.7293, -5.7792, -2.4977, -3.3579, -3.9285, -3.9497, -4.545, -4.5908, -4.7396, -4.7877, -4.8029, -4.8063, -4.8184, -4.8211, -4.9143, -4.915, -5.0076, -5.0467, -5.1166, -5.4443, -5.5533, -5.5629, -5.6175, -5.6223, -5.6258, -5.6509, -5.7595, -5.7596, -5.7889, -5.8177, -5.8641, -5.8904, -4.3804, -4.8725, -3.6352, -3.9884, -4.0, -4.0597, -4.2088, -4.2794, -4.3641, -4.6162, -4.8453, -4.8979, -4.9169, -4.9194, -4.9691, -4.9693, -5.0099, -5.048, -5.1066, -5.1129, -5.1447, -5.2318, -5.4447, -5.5285, -5.5642, -5.5935, -5.6133, -5.7029, -5.7062, -5.7495, -5.7904, -5.8518, -3.8392, -5.6976, -3.48, -4.0494, -4.2794, -4.4651, -4.4678, -4.4757, -4.4827, -4.5341, -4.6718, -4.8764, -4.8906, -4.9275, -5.2292, -5.2934, -5.3168, -5.3519, -5.4685, -5.4904, -5.5245, -5.5355, -5.6113, -5.6265, -5.647, -5.6562, -5.7957, -5.7979, -5.8049, -5.8177, -5.8177, -5.8833, -4.0094, -5.1876], \"loglift\": [30.0, 29.0, 28.0, 27.0, 26.0, 25.0, 24.0, 23.0, 22.0, 21.0, 20.0, 19.0, 18.0, 17.0, 16.0, 15.0, 14.0, 13.0, 12.0, 11.0, 10.0, 9.0, 8.0, 7.0, 6.0, 5.0, 4.0, 3.0, 2.0, 1.0, 1.6347, 1.6267, 1.6226, 1.6217, 1.6177, 1.6117, 1.6084, 1.6072, 1.6063, 1.6062, 1.6044, 1.6044, 1.6034, 1.5956, 1.5933, 1.5893, 1.5851, 1.5834, 1.5834, 1.5746, 1.5738, 1.5728, 1.5722, 1.5714, 1.5706, 1.5693, 1.5674, 1.5671, 1.5648, 1.5648, 1.3924, 1.2908, 0.6365, 0.072, 0.8616, 0.777, 2.1305, 2.1304, 2.1275, 2.1189, 2.1131, 2.107, 2.1017, 2.0958, 2.0847, 2.0722, 2.0699, 2.0698, 2.0645, 2.0624, 2.0617, 2.058, 2.056, 2.0507, 2.0498, 2.049, 2.0473, 2.0447, 2.0442, 2.0402, 2.0368, 2.0353, 2.0337, 2.0328, 2.028, 2.0276, 2.0049, 1.8738, 1.4719, 0.8611, 2.155, 2.1471, 2.1448, 2.1441, 2.1434, 2.1405, 2.1356, 2.1337, 2.1299, 2.1276, 2.127, 2.1251, 2.1249, 2.1196, 2.1178, 2.1171, 2.1135, 2.1127, 2.1108, 2.1087, 2.1068, 2.106, 2.1059, 2.105, 2.1039, 2.1023, 2.1018, 2.1, 2.0951, 2.0942, 1.6395, 0.3545, 0.0066, 1.861, 0.732, 2.2317, 2.2268, 2.2167, 2.2124, 2.2123, 2.2095, 2.208, 2.2035, 2.2031, 2.2029, 2.2028, 2.2004, 2.1938, 2.1921, 2.1901, 2.1892, 2.1805, 2.1791, 2.1687, 2.1648, 2.1619, 2.1613, 2.1577, 2.1572, 2.1533, 2.1523, 2.1509, 2.1496, 2.1443, 2.1415, 2.0624, 1.9864, 0.2603, -0.0665, 0.4485, 2.2382, 2.2198, 2.2196, 2.2175, 2.2112, 2.2097, 2.2055, 2.2007, 2.2006, 2.1991, 2.1989, 2.1957, 2.1906, 2.1822, 2.1779, 2.1707, 2.1681, 2.1651, 2.1619, 2.1617, 2.1554, 2.1515, 2.151, 2.1503, 2.1497, 2.1487, 2.144, 2.143, 2.1381, 2.1378, 1.9656, 1.8549, 1.5893, 1.7156, 1.7604, 0.9798, 1.0677, 2.2574, 2.255, 2.2526, 2.2479, 2.2449, 2.2338, 2.2333, 2.231, 2.2298, 2.2231, 2.223, 2.2209, 2.2097, 2.2093, 2.209, 2.2085, 2.2053, 2.2033, 2.2015, 2.1989, 2.1949, 2.1929, 2.1902, 2.1899, 2.187, 2.1853, 2.1816, 2.1811, 2.18, 2.1792, 1.2992, 1.9057, 1.8691, 1.6768, 1.8041, 0.775, 2.2962, 2.2953, 2.291, 2.2884, 2.2852, 2.2845, 2.2806, 2.2782, 2.2761, 2.2636, 2.2562, 2.2553, 2.254, 2.2528, 2.2481, 2.2369, 2.2301, 2.23, 2.2268, 2.2255, 2.2249, 2.22, 2.2152, 2.2127, 2.2105, 2.2102, 2.2079, 2.2069, 2.2064, 2.2029, 2.1903, 2.0224, 0.1788, -0.1572, 2.0457, 1.5758, 2.8522, 2.8438, 2.8327, 2.8321, 2.8113, 2.8092, 2.8015, 2.7988, 2.7979, 2.7977, 2.797, 2.7968, 2.791, 2.7909, 2.7846, 2.7818, 2.7765, 2.7464, 2.7343, 2.7332, 2.7266, 2.726, 2.7256, 2.7224, 2.7079, 2.7079, 2.7038, 2.6996, 2.6927, 2.6886, 2.4515, 2.4474, 2.9466, 2.9377, 2.9373, 2.9355, 2.9303, 2.9276, 2.9242, 2.912, 2.898, 2.8944, 2.893, 2.8929, 2.8892, 2.8892, 2.886, 2.883, 2.8781, 2.8776, 2.8748, 2.8667, 2.8441, 2.834, 2.8295, 2.8256, 2.823, 2.8104, 2.8099, 2.8035, 2.7972, 2.7873, -0.756, 0.4452, 3.037, 3.0219, 3.013, 3.0042, 3.0041, 3.0037, 3.0033, 3.0006, 2.9925, 2.9784, 2.9773, 2.9744, 2.9469, 2.94, 2.9374, 2.9334, 2.9191, 2.9163, 2.9117, 2.9102, 2.8995, 2.8973, 2.8943, 2.8929, 2.8705, 2.8701, 2.8689, 2.8667, 2.8667, 2.855, 0.6306, 1.1184]}, \"token.table\": {\"Topic\": [1, 2, 3, 2, 3, 7, 6, 6, 2, 5, 9, 10, 9, 1, 1, 9, 2, 1, 6, 8, 7, 5, 7, 6, 1, 8, 2, 9, 2, 1, 8, 4, 9, 2, 4, 5, 5, 6, 3, 5, 6, 10, 3, 3, 5, 7, 6, 10, 7, 3, 5, 1, 6, 6, 8, 8, 5, 6, 1, 2, 1, 10, 6, 3, 3, 6, 8, 10, 3, 9, 8, 3, 9, 3, 6, 5, 1, 7, 6, 5, 4, 4, 4, 1, 5, 5, 1, 10, 7, 7, 6, 6, 8, 5, 4, 8, 8, 7, 10, 1, 3, 4, 6, 7, 9, 2, 6, 5, 9, 2, 6, 10, 5, 4, 10, 10, 10, 1, 7, 4, 2, 6, 4, 7, 6, 8, 8, 2, 2, 8, 8, 7, 1, 5, 3, 1, 8, 4, 8, 10, 6, 4, 4, 9, 3, 7, 9, 1, 1, 4, 7, 1, 1, 2, 4, 9, 10, 1, 7, 3, 2, 5, 6, 4, 1, 10, 1, 5, 8, 2, 5, 7, 8, 9, 8, 9, 7, 3, 4, 5, 9, 1, 6, 4, 4, 10, 9, 10, 9, 5, 1, 10, 3, 8, 7, 5, 8, 6, 4, 6, 1, 5, 3, 3, 7, 4, 1, 3, 2, 4, 7, 9, 7, 4, 5, 6, 4, 9, 6, 1, 2, 9, 7, 10, 2, 3, 2, 2, 3, 4, 4, 7, 4, 5, 10, 6, 9, 5, 6, 1, 3, 7, 3, 2, 3, 8, 1, 2, 10, 9, 1, 5, 10, 3, 8, 10, 9, 6, 5, 2, 1, 2, 7, 3, 3, 8, 7, 8, 4, 3, 4, 5, 10, 1, 2, 7, 3, 7, 3, 8, 9, 2, 5, 4, 3, 4, 1, 7, 3, 5, 3, 8, 10, 5, 9, 10, 9, 7, 2, 7, 8, 6, 3, 5, 10, 8, 10, 4, 10, 7, 1, 1, 5, 9, 8, 10, 3, 1, 4, 10, 9, 2, 10, 6, 3, 6, 2, 5, 2, 1, 2, 4, 5, 5, 4, 6, 7, 10, 5, 4, 7, 7, 9, 1, 7, 2, 8, 4, 1, 3, 8, 8, 9, 1, 9, 9, 7, 6, 2], \"Freq\": [0.36737668484498187, 0.5167882552364818, 0.11601368995104691, 0.8411115011409156, 0.24536709844624022, 0.7497328008079562, 0.939019610601855, 0.9228235493245841, 0.8863836281727795, 0.9878872454440961, 0.9570139282704194, 0.9610939446815895, 0.9426124742777191, 0.955909656174717, 0.9225200749710695, 0.9519036485416187, 0.9133986192750292, 0.40702778812947193, 0.5698389033812608, 0.8850878989133735, 0.9131140867947452, 0.946052690066909, 0.9466546630903486, 0.9687235988467695, 0.30864901315667453, 0.6790278289446839, 0.9970999572246043, 0.9576666813862849, 0.9719480205557933, 0.9911338220892483, 0.797835268710022, 0.8723634750865158, 0.8473935131101966, 0.9101150539476764, 0.9134445216550978, 0.9352016219230028, 0.9618322401125268, 0.915867776933565, 0.9867530465940177, 0.9722807943907033, 0.9692611349872255, 0.9412670050456414, 0.9944482948055992, 0.35998100312432413, 0.5999683385405402, 0.9382954534604553, 0.9685450275412851, 0.823065515491564, 0.9454661879677605, 0.35466366474074706, 0.6079948538412807, 0.9169252292636028, 0.9656070777335478, 0.9948488069269891, 0.9125203936054361, 0.876059143267723, 0.26991381053903973, 0.7085237526649792, 0.9009340071649609, 0.9513312586416105, 0.9148783502827239, 0.7130066137019413, 0.9426416780267557, 0.9901464019598374, 0.9464515364780024, 0.9807371995146283, 0.7780397178515104, 0.9182572197613008, 0.9312997941258703, 0.9069354220983279, 0.9671121479155711, 0.9717725233668301, 0.9374428315615834, 0.9808827489738065, 0.9654926547099151, 0.9546918612119988, 0.9608015796978813, 0.9727336719216805, 0.9437600737804978, 0.9854875896635735, 0.9879306846996662, 0.9551457664902495, 0.900480706830132, 0.4718961053805878, 0.5308831185531613, 0.8921718623425388, 0.9596218437350714, 0.9582040917353107, 0.9856803023488055, 0.9652857604085928, 0.9151484205642867, 0.8966595108230284, 0.8848161821947642, 0.939245136481613, 0.8907121910363766, 0.8595724466024843, 0.9603526246354811, 0.9100695904375254, 0.0888905181357583, 0.2088298104452672, 0.16420805607662034, 0.13921987363017813, 0.37839247704612516, 0.08478133330042899, 0.02409574735906929, 0.9650356468907548, 0.907165253924657, 0.9981908594957575, 0.9737987202798322, 0.9428798186375837, 0.9742541038446576, 0.9628757170738111, 0.9359304170980561, 0.9933963135843384, 0.8124341386980085, 0.9515166412761291, 0.8720154529097007, 0.1946276452500857, 0.7785105810003428, 0.933055988429483, 0.9272655420689901, 0.9757299448027131, 0.9727563606359448, 0.9608250109848493, 0.9139698155487763, 0.8909884143044688, 0.850641428549424, 0.9524057666571921, 0.9477880549140721, 0.8658860571093022, 0.812369030818418, 0.8715744398317655, 0.8904544616700772, 0.9456671710181125, 0.9834856943810469, 0.9435600838497453, 0.9148180304109712, 0.9512430493134054, 0.9810421731412337, 0.9234103653375652, 0.9056171524231342, 0.9957951006812511, 0.8753385986994827, 0.8911328362994798, 0.9587098922962185, 0.8967060127449183, 0.909103705790377, 0.9635284808594212, 0.7805335162053965, 0.10040293050025813, 0.11912212093250964, 0.9841865640312154, 0.9646103986973225, 0.8383546394468829, 0.9868664505359401, 0.8772105936391144, 0.8978431300025582, 0.9741732450472972, 0.9229107608611995, 0.9878533921941477, 0.9548722486145901, 0.9342227518724088, 0.9499563932992068, 0.9451890878617243, 0.9286676511747651, 0.7171723440586542, 0.9796075042474796, 0.30315577966680135, 0.682100504250303, 0.8996375140302577, 0.9247174500581562, 0.897118858383259, 0.0969858225279199, 0.923598393573738, 0.9887276114488924, 0.9265415191421567, 0.9497272365076835, 0.5897062975663656, 0.17120505413217066, 0.15218227033970727, 0.07609113516985364, 0.9833347169719155, 0.9711903104923286, 0.885569104799485, 0.8842261250291658, 0.9318972112162847, 0.814439927611444, 0.9150922873671852, 0.960131400477439, 0.9519113045993939, 0.979971953312436, 0.7248369234799376, 0.979453401565078, 0.9241767422805713, 0.9491388871586951, 0.9475921880562658, 0.8177358118607536, 0.9117518496867603, 0.32103607159735614, 0.6420721431947123, 0.9859695916213341, 0.9305214197085893, 0.9394392293979833, 0.9868032128991092, 0.9918138431311584, 0.8928932485233949, 0.9634332309326115, 0.9466691535602153, 0.9029344814627984, 0.7964880702454277, 0.19912201756135692, 0.8755644210101338, 0.9480601203683634, 0.9597834594101264, 0.8939898541088488, 0.8550161067073457, 0.9841332870818627, 0.8785839965701159, 0.9680780832335613, 0.9743128561755864, 0.8950017877346333, 0.912357440677826, 0.9162341495947832, 0.7117130944872152, 0.9356886866961277, 0.9729398830427128, 0.9777161504728396, 0.8695426944273995, 0.9801950074060807, 0.9833768852372459, 0.9390544433868968, 0.9366462868948852, 0.9906008845997734, 0.8940854910636125, 0.7248369234799376, 0.9632313599424056, 0.8167546552237408, 0.7636046043213258, 0.2147637949653729, 0.9738673278806167, 0.9407740084891633, 0.9531655653116998, 0.9683281076205891, 0.9941593690002413, 0.9783263405773948, 0.9363010486301865, 0.9329236969243041, 0.9253344898085032, 0.94256903148861, 0.8697957282750615, 0.917019262379728, 0.9622825390953348, 0.9342213167981936, 0.9274871147489352, 0.9239682595504937, 0.8104899503351098, 0.9099599897467195, 0.9858529829380105, 0.9386372226942528, 0.9445568884395763, 0.7128079867661573, 0.27592567229657705, 0.9856036722753794, 0.9917738936856615, 0.9881631372996794, 0.8632247449519908, 0.8409732491365463, 0.9886727288750272, 0.9851979798348329, 0.7280021898754097, 0.22400067380781835, 0.9332713209920114, 0.883901595552895, 0.9823234815674182, 0.8654563789848422, 0.10385476547818105, 0.959183332365481, 0.9818783986437677, 0.979827779376848, 0.9732055641625939, 0.9032670675738088, 0.9683352161660925, 0.8835478820765709, 0.9586688465688087, 0.9560928538772142, 0.9677708976445826, 0.44756977279396853, 0.5115083117645355, 0.9321264198974144, 0.9473061591822064, 0.9680846736167741, 0.7779861719950059, 0.8375562719262751, 0.9921158135633515, 0.8133745482730455, 0.8441312291033102, 0.9520748159860243, 0.9891948955663078, 0.9281978040798561, 0.8763849633166948, 0.9021251084755441, 0.9524036961045955, 0.9630094083178791, 0.9203930376119215, 0.9475743893118467, 0.8192720084676658, 0.7649749412840622, 0.9335127307212056, 0.9608775155083179, 0.9820456812247735, 0.9959014000623101, 0.3069224710680985, 0.6752294363498168, 0.9656218701676307, 0.9900018760547146, 0.9428418572064923, 0.9456849631938593, 0.9777436516956636, 0.8511462734249972, 0.1343915168565785, 0.9815253401050872, 0.9345661116389773, 0.9679981855797686, 0.9314846948838871, 0.2842234063463266, 0.6821361752311838, 0.9691261061678617, 0.9088685882511669, 0.9116182126571478, 0.2070647440674984, 0.7822445886994384, 0.9925063219666046, 0.9240661288738424, 0.9714037787630244, 0.9331049256494532, 0.9798528386224357, 0.9821982977311522, 0.9486046141991971, 0.968326996276862, 0.9630860206142854, 0.9779030828865608, 0.8900012313955277, 0.9413778548896166, 0.8865929537565664, 0.9906312439225815, 0.9974466334320433, 0.9075627125822567, 0.9745157459616757, 0.976716304616987, 0.9685462301787584, 0.8697905206250727, 0.9081804602300622, 0.968481083492154, 0.9297044526707486, 0.9790020228356779, 0.9427982534922437, 0.9786611500017542, 0.957651410294236, 0.9214409982190663], \"Term\": [\"#\", \"#\", \"#\", \"aarpca\", \"accident\", \"accident\", \"actual\", \"algorithm\", \"alternative\", \"amazing\", \"amazon\", \"american\", \"amount\", \"android\", \"answer\", \"argument\", \"arrive\", \"article\", \"article\", \"assist\", \"attention\", \"automaker\", \"automation\", \"automobile\", \"automotive\", \"automotive\", \"autonomous\", \"available\", \"avpolicy\", \"awesome\", \"balaji\", \"bbcworld\", \"benedictevan\", \"big\", \"bitcoin\", \"brake\", \"breakthrough\", \"bridge\", \"building\", \"business\", \"button\", \"cadillac\", \"california\", \"camera\", \"camera\", \"campus\", \"canada\", \"carmaker\", \"carnegiemellon\", \"center\", \"center\", \"century\", \"challenge\", \"change\", \"cheap\", \"checkince\", \"city\", \"city\", \"close\", \"codecon\", \"coffee\", \"common\", \"commute\", \"company\", \"complete\", \"computer\", \"computing\", \"concept\", \"conference\", \"congestion\", \"connected\", \"consumer\", \"control\", \"corner\", \"country\", \"course\", \"cruise\", \"cyclist\", \"dangerous\", \"death\", \"decade\", \"delivery\", \"demand\", \"design\", \"design\", \"designing\", \"destination\", \"destroy\", \"detroit\", \"development\", \"device\", \"discussion\", \"disrupt\", \"disruption\", \"downtown\", \"drift\", \"drive\", \"driver\", \"driver\", \"driverless\", \"driverless\", \"driverless\", \"driverless\", \"driverless\", \"driverless\", \"driverlesscar\", \"driverlesstran\", \"driving\", \"drone\", \"easy\", \"economic\", \"economy\", \"effort\", \"electric\", \"emergency\", \"employee\", \"energy\", \"engine\", \"engine\", \"engineer\", \"engineering\", \"enough\", \"excited\", \"exciting\", \"expensive\", \"experience\", \"experiment\", \"expert\", \"facility\", \"factor\", \"fascinating\", \"fast\", \"figure\", \"fleet\", \"florida\", \"forbe\", \"francisco\", \"freeway\", \"friend\", \"friendly\", \"fucking\", \"future\", \"futuristic\", \"general\", \"germany\", \"gesture\", \"gizmodo\", \"glass\", \"google\", \"google\", \"google\", \"googlecar\", \"googleplex\", \"googlex\", \"government\", \"grandma\", \"headline\", \"highway\", \"history\", \"human\", \"hybrid\", \"imagine\", \"impact\", \"implication\", \"important\", \"impossible\", \"incredible\", \"industry\", \"industry\", \"inevitable\", \"infrastructure\", \"innovation\", \"innovation\", \"inspiration\", \"insurance\", \"insurer\", \"interested\", \"interesting\", \"interesting\", \"interesting\", \"interesting\", \"internet\", \"intersection\", \"invent\", \"iphone\", \"issue\", \"jealous\", \"jeffreybrande\", \"late\", \"latime\", \"launch\", \"legality\", \"license\", \"lifetime\", \"light\", \"little\", \"living\", \"location\", \"machine\", \"machine\", \"mainstream\", \"manual\", \"mapping\", \"market\", \"mashable\", \"massive\", \"mastering\", \"mercede\", \"mercedesbenz\", \"michigan\", \"michigan\", \"military\", \"minute\", \"mobile\", \"mobility\", \"moonshot\", \"morning\", \"motor\", \"motorcycle\", \"mountain\", \"multiple\", \"museum\", \"navigate\", \"nbcnew\", \"network\", \"nevada\", \"nissan\", \"number\", \"nvidia\", \"nytime\", \"obsolete\", \"obvious\", \"office\", \"opportunity\", \"overcome\", \"ownership\", \"parallel\", \"parking\", \"parking\", \"partner\", \"passenger\", \"pedal\", \"pedestrian\", \"people\", \"permit\", \"person\", \"phone\", \"picture\", \"pittsburgh\", \"plane\", \"police\", \"policy\", \"possible\", \"potential\", \"pretty\", \"printer\", \"private\", \"problem\", \"product\", \"program\", \"project\", \"project\", \"prototype\", \"public\", \"question\", \"reading\", \"realistic\", \"reality\", \"reason\", \"regulation\", \"regulation\", \"regulator\", \"release\", \"report\", \"research\", \"research\", \"reshape\", \"revolution\", \"robot\", \"robotic\", \"rocket\", \"safety\", \"sayfie\", \"school\", \"science\", \"screen\", \"search\", \"search\", \"second\", \"selfdrivingcar\", \"sensor\", \"series\", \"serious\", \"service\", \"session\", \"sharing\", \"sighting\", \"silicon\", \"siliconvalley\", \"simple\", \"skynet\", \"smart\", \"social\", \"software\", \"solution\", \"source\", \"soylent\", \"standard\", \"state\", \"steering\", \"street\", \"system\", \"system\", \"techcrunch\", \"technology\", \"terrible\", \"tesla\", \"teslamotor\", \"testing\", \"testing\", \"thank\", \"thefuture\", \"thing\", \"thinking\", \"thought\", \"thought\", \"ticket\", \"tonight\", \"toronto\", \"toyota\", \"toyota\", \"traffic\", \"train\", \"transit\", \"transport\", \"transportation\", \"travel\", \"trend\", \"truck\", \"university\", \"unveil\", \"upcoming\", \"update\", \"usatoday\", \"valley\", \"vehicle\", \"version\", \"vision\", \"vmworld\", \"washington\", \"watch\", \"wearable\", \"well\", \"wheel\", \"wonder\", \"working\", \"yesterday\", \"youtube\", \"zipcar\"]}, \"R\": 30, \"lambda.step\": 0.01, \"plot.opts\": {\"xlab\": \"PC1\", \"ylab\": \"PC2\"}, \"topic.order\": [6, 3, 8, 9, 1, 2, 4, 7, 5, 10]};\n",
       "\n",
       "function LDAvis_load_lib(url, callback){\n",
       "  var s = document.createElement('script');\n",
       "  s.src = url;\n",
       "  s.async = true;\n",
       "  s.onreadystatechange = s.onload = callback;\n",
       "  s.onerror = function(){console.warn(\"failed to load library \" + url);};\n",
       "  document.getElementsByTagName(\"head\")[0].appendChild(s);\n",
       "}\n",
       "\n",
       "if(typeof(LDAvis) !== \"undefined\"){\n",
       "   // already loaded: just create the visualization\n",
       "   !function(LDAvis){\n",
       "       new LDAvis(\"#\" + \"ldavis_el14402979748261704734992949\", ldavis_el14402979748261704734992949_data);\n",
       "   }(LDAvis);\n",
       "}else if(typeof define === \"function\" && define.amd){\n",
       "   // require.js is available: use it to load d3/LDAvis\n",
       "   require.config({paths: {d3: \"https://d3js.org/d3.v5\"}});\n",
       "   require([\"d3\"], function(d3){\n",
       "      window.d3 = d3;\n",
       "      LDAvis_load_lib(\"https://cdn.jsdelivr.net/gh/bmabey/pyLDAvis@3.3.1/pyLDAvis/js/ldavis.v3.0.0.js\", function(){\n",
       "        new LDAvis(\"#\" + \"ldavis_el14402979748261704734992949\", ldavis_el14402979748261704734992949_data);\n",
       "      });\n",
       "    });\n",
       "}else{\n",
       "    // require.js not available: dynamically load d3 & LDAvis\n",
       "    LDAvis_load_lib(\"https://d3js.org/d3.v5.js\", function(){\n",
       "         LDAvis_load_lib(\"https://cdn.jsdelivr.net/gh/bmabey/pyLDAvis@3.3.1/pyLDAvis/js/ldavis.v3.0.0.js\", function(){\n",
       "                 new LDAvis(\"#\" + \"ldavis_el14402979748261704734992949\", ldavis_el14402979748261704734992949_data);\n",
       "            })\n",
       "         });\n",
       "}\n",
       "</script>"
      ],
      "text/plain": [
       "PreparedData(topic_coordinates=              x         y  topics  cluster       Freq\n",
       "topic                                                \n",
       "5      0.224948 -0.077510       1        1  19.396222\n",
       "2     -0.105793 -0.307208       2        1  11.848301\n",
       "7      0.005578 -0.007665       3        1  11.542130\n",
       "8      0.149981  0.062367       4        1  10.703883\n",
       "0     -0.208953  0.125498       5        1  10.653545\n",
       "1      0.029675  0.089698       6        1  10.331747\n",
       "3      0.143283  0.036022       7        1   9.944191\n",
       "6     -0.107153  0.023074       8        1   5.736203\n",
       "4     -0.052936  0.034178       9        1   5.141018\n",
       "9     -0.078630  0.021546      10        1   4.702761, topic_info=            Term         Freq        Total Category  logprob  loglift\n",
       "4         google  1762.000000  1762.000000  Default  30.0000  30.0000\n",
       "12       driving   654.000000   654.000000  Default  29.0000  29.0000\n",
       "3     driverless  1120.000000  1120.000000  Default  28.0000  28.0000\n",
       "7     autonomous   288.000000   288.000000  Default  27.0000  27.0000\n",
       "18             #   568.000000   568.000000  Default  26.0000  26.0000\n",
       "...          ...          ...          ...      ...      ...      ...\n",
       "6323    legality     3.421532     4.138862  Topic10  -5.8177   2.8667\n",
       "6325    overcome     3.421532     4.138862  Topic10  -5.8177   2.8667\n",
       "5668     soylent     3.204355     3.921697  Topic10  -5.8833   2.8550\n",
       "14        driver    20.873127   236.245670  Topic10  -4.0094   0.6306\n",
       "490      testing     6.424868    44.645675  Topic10  -5.1876   1.1184\n",
       "\n",
       "[375 rows x 6 columns], token_table=      Topic      Freq       Term\n",
       "term                            \n",
       "18        1  0.367377          #\n",
       "18        2  0.516788          #\n",
       "18        3  0.116014          #\n",
       "4136      2  0.841112     aarpca\n",
       "147       3  0.245367   accident\n",
       "...     ...       ...        ...\n",
       "660       9  0.979002     wonder\n",
       "746       9  0.942798    working\n",
       "1022      7  0.978661  yesterday\n",
       "1807      6  0.957651    youtube\n",
       "2225      2  0.921441     zipcar\n",
       "\n",
       "[359 rows x 3 columns], R=30, lambda_step=0.01, plot_opts={'xlab': 'PC1', 'ylab': 'PC2'}, topic_order=[6, 3, 8, 9, 1, 2, 4, 7, 5, 10])"
      ]
     },
     "execution_count": 48,
     "metadata": {},
     "output_type": "execute_result"
    }
   ],
   "source": [
    "import pyLDAvis\n",
    "import pyLDAvis.gensim_models as gensimvis\n",
    "pyLDAvis.enable_notebook()\n",
    "vis = gensimvis.prepare(lda_model, doc_term_matrix, dictionary)\n",
    "vis"
   ]
  },
  {
   "cell_type": "code",
   "execution_count": null,
   "metadata": {},
   "outputs": [],
   "source": []
  },
  {
   "cell_type": "code",
   "execution_count": null,
   "metadata": {},
   "outputs": [],
   "source": []
  },
  {
   "cell_type": "code",
   "execution_count": null,
   "metadata": {},
   "outputs": [],
   "source": []
  },
  {
   "cell_type": "code",
   "execution_count": null,
   "metadata": {},
   "outputs": [],
   "source": []
  },
  {
   "cell_type": "code",
   "execution_count": null,
   "metadata": {},
   "outputs": [],
   "source": []
  },
  {
   "cell_type": "code",
   "execution_count": null,
   "metadata": {},
   "outputs": [],
   "source": []
  }
 ],
 "metadata": {
  "kernelspec": {
   "display_name": "Python 3",
   "language": "python",
   "name": "python3"
  },
  "language_info": {
   "codemirror_mode": {
    "name": "ipython",
    "version": 3
   },
   "file_extension": ".py",
   "mimetype": "text/x-python",
   "name": "python",
   "nbconvert_exporter": "python",
   "pygments_lexer": "ipython3",
   "version": "3.7.6"
  }
 },
 "nbformat": 4,
 "nbformat_minor": 4
}
